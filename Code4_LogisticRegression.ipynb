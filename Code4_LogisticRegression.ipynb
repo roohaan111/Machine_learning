{
 "cells": [
  {
   "cell_type": "markdown",
   "metadata": {
    "id": "GPZcfoYofkY5",
    "state": "normal"
   },
   "source": [
    "# **Logistic Regression**\n",
    "Logistic Regression can be used to estimate the probability that an instance/sample/example belongs to a particular class. For example, what is the probability that an email is spam? If the estimated probability is greater than 50% (or a given threshold), then the LR model will predict that an instance belongs to that class (the positive class, usually labeled \"1\" or sometimes \"True\"). Otherwise the LR model predicts it does not belong to that class, therefore it belongs to the negative class, usually labeled \"0\". \n",
    "\n",
    "Similar to Linear Regression, Logistic Regression computes a weighted sum of the input features (plus a bias term), but instead of outputting the result directly (like linear regression), it outputs the logistic of that result: $\\hat{p} = h_{\\theta}(\\textbf{x}) = \\sigma(\\textbf{x}^T\\theta)$.\n",
    "\n",
    "The logistic ($\\sigma(*)$) is a sigmoid function (S-shaped like we saw in class) that will output a number between 0 and 1. Once we estimate the probability $\\hat{p}$ that an instance belongs to the positive class, then we can make the $\\hat{y}$ prediction easily: $\\hat{y} = 0  \\text{ if } \\hat{p} < 0.5 \\text{ or } 1 \\text{ if } \\hat{p} \\geq 0.5$. \n",
    "\n",
    "**Training and Cost Function**\n",
    "\n",
    "The training objective for LR is to set the parameter vector $\\theta$ so that the LR model will estimate high probabilities for positive instances (y = 1) and low probabilities for negative instances (y = 0). This can be expressed with this cost function: $c(\\theta) = -log(\\hat{p}) \\text{ if } y = 1, -log(1 - \\hat{p}) \\text{ if } y = 0$. \n",
    "\n",
    "The cost function for the whole training dataset is the average cost over all training instances. This is called the $\\textit{log loss}$: $J(\\theta) = - \\frac{1}{m} \\sum_{i=1}^{m}[y^{(i)}log(\\hat{p^{(i)}}) + (1-y^{(i)})log(1-\\hat{p^{(i)}})]$ and we can solve it using Gradient Descent. "
   ]
  },
  {
   "cell_type": "markdown",
   "metadata": {
    "state": "normal"
   },
   "source": [
    "**Basic Setup**"
   ]
  },
  {
   "cell_type": "code",
   "execution_count": 1,
   "metadata": {
    "deletable": false,
    "editable": false,
    "id": "01",
    "state": "read_only"
   },
   "outputs": [],
   "source": [
    "# Import packages\n",
    "import numpy as np\n",
    "import sklearn"
   ]
  },
  {
   "cell_type": "code",
   "execution_count": 2,
   "metadata": {
    "id": "f_pd-AV2cfzb",
    "state": "normal"
   },
   "outputs": [],
   "source": [
    "# For plots\n",
    "%matplotlib inline\n",
    "import matplotlib as mpl\n",
    "import matplotlib.pyplot as plt\n",
    "mpl.rc('axes', labelsize=14)\n",
    "mpl.rc('xtick', labelsize=12)\n",
    "mpl.rc('ytick', labelsize=12)"
   ]
  },
  {
   "cell_type": "code",
   "execution_count": 3,
   "metadata": {
    "deletable": false,
    "editable": false,
    "id": "02",
    "state": "read_only"
   },
   "outputs": [],
   "source": [
    "# To make this notebook's output stable across runs\n",
    "np.random.seed(42)"
   ]
  },
  {
   "cell_type": "code",
   "execution_count": 4,
   "metadata": {
    "colab": {
     "base_uri": "https://localhost:8080/",
     "height": 232
    },
    "id": "ZglxCyN1fXi2",
    "outputId": "8189e03f-4b36-462c-ce73-62c98abb2fa7",
    "state": "normal"
   },
   "outputs": [
    {
     "data": {
      "image/png": "[encoded data removed]",
      "text/plain": [
       "<Figure size 648x216 with 1 Axes>"
      ]
     },
     "metadata": {
      "needs_background": "light"
     },
     "output_type": "display_data"
    }
   ],
   "source": [
    "# Let's first visualize the logistic function\n",
    "\n",
    "t = np.linspace(-10, 10, 100)\n",
    "sig = 1 / (1 + np.exp(-t))\n",
    "plt.figure(figsize=(9, 3))\n",
    "plt.plot([-10, 10], [0, 0], \"k-\")\n",
    "plt.plot([-10, 10], [0.5, 0.5], \"k:\")\n",
    "plt.plot([-10, 10], [1, 1], \"k:\")\n",
    "plt.plot([0, 0], [-1.1, 1.1], \"k-\")\n",
    "plt.plot(t, sig, \"b-\", linewidth=2, label=r\"$\\sigma(t) = \\frac{1}{1 + e^{-t}}$\")\n",
    "plt.xlabel(\"t\")\n",
    "plt.legend(loc=\"upper left\", fontsize=20)\n",
    "plt.axis([-10, 10, -0.1, 1.1])\n",
    "plt.show()"
   ]
  },
  {
   "cell_type": "code",
   "execution_count": 5,
   "metadata": {
    "colab": {
     "base_uri": "https://localhost:8080/"
    },
    "deletable": false,
    "editable": false,
    "id": "03",
    "outputId": "c2bdb518-dc3f-47a9-8afd-503752c2eb37",
    "state": "read_only"
   },
   "outputs": [
    {
     "data": {
      "text/plain": [
       "['data',\n",
       " 'target',\n",
       " 'frame',\n",
       " 'target_names',\n",
       " 'DESCR',\n",
       " 'feature_names',\n",
       " 'filename']"
      ]
     },
     "execution_count": 5,
     "metadata": {},
     "output_type": "execute_result"
    }
   ],
   "source": [
    "# Load the Iris Dataset from Scikit Learn to train and test on\n",
    "\n",
    "from sklearn import datasets\n",
    "iris = datasets.load_iris()\n",
    "list(iris.keys())"
   ]
  },
  {
   "cell_type": "code",
   "execution_count": 6,
   "metadata": {
    "colab": {
     "base_uri": "https://localhost:8080/"
    },
    "deletable": false,
    "editable": false,
    "id": "04",
    "outputId": "df88d173-ff58-4d22-b50f-362520712e0a",
    "state": "read_only"
   },
   "outputs": [
    {
     "name": "stdout",
     "output_type": "stream",
     "text": [
      ".. _iris_dataset:\n",
      "\n",
      "Iris plants dataset\n",
      "--------------------\n",
      "\n",
      "**Data Set Characteristics:**\n",
      "\n",
      "    :Number of Instances: 150 (50 in each of three classes)\n",
      "    :Number of Attributes: 4 numeric, predictive attributes and the class\n",
      "    :Attribute Information:\n",
      "        - sepal length in cm\n",
      "        - sepal width in cm\n",
      "        - petal length in cm\n",
      "        - petal width in cm\n",
      "        - class:\n",
      "                - Iris-Setosa\n",
      "                - Iris-Versicolour\n",
      "                - Iris-Virginica\n",
      "                \n",
      "    :Summary Statistics:\n",
      "\n",
      "    ============== ==== ==== ======= ===== ====================\n",
      "                    Min  Max   Mean    SD   Class Correlation\n",
      "    ============== ==== ==== ======= ===== ====================\n",
      "    sepal length:   4.3  7.9   5.84   0.83    0.7826\n",
      "    sepal width:    2.0  4.4   3.05   0.43   -0.4194\n",
      "    petal length:   1.0  6.9   3.76   1.76    0.9490  (high!)\n",
      "    petal width:    0.1  2.5   1.20   0.76    0.9565  (high!)\n",
      "    ============== ==== ==== ======= ===== ====================\n",
      "\n",
      "    :Missing Attribute Values: None\n",
      "    :Class Distribution: 33.3% for each of 3 classes.\n",
      "    :Creator: R.A. Fisher\n",
      "    :Donor: Michael Marshall (MARSHALL%PLU@io.arc.nasa.gov)\n",
      "    :Date: July, 1988\n",
      "\n",
      "The famous Iris database, first used by Sir R.A. Fisher. The dataset is taken\n",
      "from Fisher's paper. Note that it's the same as in R, but not as in the UCI\n",
      "Machine Learning Repository, which has two wrong data points.\n",
      "\n",
      "This is perhaps the best known database to be found in the\n",
      "pattern recognition literature.  Fisher's paper is a classic in the field and\n",
      "is referenced frequently to this day.  (See Duda & Hart, for example.)  The\n",
      "data set contains 3 classes of 50 instances each, where each class refers to a\n",
      "type of iris plant.  One class is linearly separable from the other 2; the\n",
      "latter are NOT linearly separable from each other.\n",
      "\n",
      ".. topic:: References\n",
      "\n",
      "   - Fisher, R.A. \"The use of multiple measurements in taxonomic problems\"\n",
      "     Annual Eugenics, 7, Part II, 179-188 (1936); also in \"Contributions to\n",
      "     Mathematical Statistics\" (John Wiley, NY, 1950).\n",
      "   - Duda, R.O., & Hart, P.E. (1973) Pattern Classification and Scene Analysis.\n",
      "     (Q327.D83) John Wiley & Sons.  ISBN 0-471-22361-1.  See page 218.\n",
      "   - Dasarathy, B.V. (1980) \"Nosing Around the Neighborhood: A New System\n",
      "     Structure and Classification Rule for Recognition in Partially Exposed\n",
      "     Environments\".  IEEE Transactions on Pattern Analysis and Machine\n",
      "     Intelligence, Vol. PAMI-2, No. 1, 67-71.\n",
      "   - Gates, G.W. (1972) \"The Reduced Nearest Neighbor Rule\".  IEEE Transactions\n",
      "     on Information Theory, May 1972, 431-433.\n",
      "   - See also: 1988 MLC Proceedings, 54-64.  Cheeseman et al\"s AUTOCLASS II\n",
      "     conceptual clustering system finds 3 classes in the data.\n",
      "   - Many, many more ...\n"
     ]
    }
   ],
   "source": [
    "# Look at the dataset details\n",
    "\n",
    "print(iris.DESCR)"
   ]
  },
  {
   "cell_type": "markdown",
   "metadata": {
    "id": "6tWw0rImh5OZ",
    "state": "normal"
   },
   "source": [
    "# Working with only a Single Feature"
   ]
  },
  {
   "cell_type": "code",
   "execution_count": 16,
   "metadata": {
    "deletable": false,
    "id": "05",
    "starter_code": "# The data is in iris[\"data\"] and target in iris[\"target\"]\n# For this section, we will work with a single feature 'petal width'\n# which is the last (fourth) feature in iris[\"data\"]\n# We will assign class y=1 if the target's value is 2 and 0 otherwise\n\n# petal width\nX = \n# 1 if Iris virginica, else 0\ny =  ",
    "state": "graded"
   },
   "outputs": [],
   "source": [
    "# The data is in iris[\"data\"] and target in iris[\"target\"]\n",
    "# For this section, we will work with a single feature 'petal width'\n",
    "# which is the last (fourth) feature in iris[\"data\"]\n",
    "# We will assign class y=1 if the target's value is 2 and 0 otherwise\n",
    "\n",
    "# petal width\n",
    "X = np.array(iris['data'][:,3])\n",
    "X = X.reshape(-1,1)\n",
    "\n",
    "# 1 if Iris virginica, else 0\n",
    "target =  iris['target']\n",
    "y = np.matrix([1 if i == 2 else 0 for i in target]).T\n"
   ]
  },
  {
   "cell_type": "code",
   "execution_count": 17,
   "metadata": {
    "colab": {
     "base_uri": "https://localhost:8080/"
    },
    "deletable": false,
    "id": "06",
    "outputId": "1791f8f2-525a-4fe4-9e9e-adaddb0c93a0",
    "starter_code": "# Import the LogisticRegression class from scikit learn\n\nfrom sklearn.",
    "state": "graded"
   },
   "outputs": [],
   "source": [
    "# Import the LogisticRegression class from scikit learn\n",
    "\n",
    "from sklearn.linear_model import LogisticRegression"
   ]
  },
  {
   "cell_type": "code",
   "execution_count": 18,
   "metadata": {
    "deletable": false,
    "id": "07",
    "starter_code": "# Initialize the LogisticRegression class, use lbfgs solver and random state of 42\n\nlog_reg = ",
    "state": "graded"
   },
   "outputs": [],
   "source": [
    "# Initialize the LogisticRegression class, use lbfgs solver and random state of 42\n",
    "\n",
    "log_reg = LogisticRegression(solver = 'lbfgs', random_state = 42)"
   ]
  },
  {
   "cell_type": "code",
   "execution_count": 19,
   "metadata": {
    "deletable": false,
    "id": "08",
    "starter_code": "# Fit the data\n\nlog_reg.",
    "state": "graded"
   },
   "outputs": [
    {
     "name": "stderr",
     "output_type": "stream",
     "text": [
      "/Users/roohaan111/opt/anaconda3/lib/python3.8/site-packages/sklearn/utils/validation.py:72: DataConversionWarning: A column-vector y was passed when a 1d array was expected. Please change the shape of y to (n_samples, ), for example using ravel().\n",
      "  return f(**kwargs)\n"
     ]
    },
    {
     "data": {
      "text/plain": [
       "LogisticRegression(random_state=42)"
      ]
     },
     "execution_count": 19,
     "metadata": {},
     "output_type": "execute_result"
    }
   ],
   "source": [
    "# Fit the data\n",
    "\n",
    "log_reg.fit(X,y)"
   ]
  },
  {
   "cell_type": "code",
   "execution_count": 20,
   "metadata": {
    "deletable": false,
    "id": "09",
    "starter_code": "# Print the estimated coefficients of the learned function\n\n",
    "state": "graded"
   },
   "outputs": [
    {
     "name": "stdout",
     "output_type": "stream",
     "text": [
      "[[4.3330846]]\n"
     ]
    }
   ],
   "source": [
    "# Print the estimated coefficients of the learned function\n",
    "\n",
    "print(log_reg.coef_)"
   ]
  },
  {
   "cell_type": "code",
   "execution_count": 27,
   "metadata": {
    "deletable": false,
    "id": "10",
    "starter_code": "# Create new data and predict their classes\n# Create 1000 new datapoints between 0 and 1 and predict their probability using the trained model\n\nX_new = \ny_proba = ",
    "state": "graded"
   },
   "outputs": [],
   "source": [
    "# Create new data and predict their classes\n",
    "# Create 1000 new datapoints between 0 and 1 and predict their probability using the trained model\n",
    "\n",
    "X_new = np.linspace(0, 1, 1000).reshape(-1, 1)\n",
    "\n",
    "y_proba = log_reg.predict_proba(X_new)\n",
    "y = np.array(y)"
   ]
  },
  {
   "cell_type": "code",
   "execution_count": 28,
   "metadata": {
    "colab": {
     "base_uri": "https://localhost:8080/",
     "height": 285
    },
    "id": "A5JnCyJtg37p",
    "outputId": "a85849db-ad9d-4ba4-9f88-d02535b3988d",
    "state": "normal"
   },
   "outputs": [
    {
     "data": {
      "text/plain": [
       "[<matplotlib.lines.Line2D at 0x7faea6071e20>]"
      ]
     },
     "execution_count": 28,
     "metadata": {},
     "output_type": "execute_result"
    },
    {
     "data": {
      "image/png": "[encoded data removed]",
      "text/plain": [
       "<Figure size 432x288 with 1 Axes>"
      ]
     },
     "metadata": {
      "needs_background": "light"
     },
     "output_type": "display_data"
    }
   ],
   "source": [
    "# Visualize the distribution of the two classes: Iris virginica and Not Iris virginica\n",
    "\n",
    "plt.plot(X_new, y_proba[:, 1], \"g-\", linewidth=2, label=\"Iris virginica\")\n",
    "plt.plot(X_new, y_proba[:, 0], \"b--\", linewidth=2, label=\"Not Iris virginica\")"
   ]
  },
  {
   "cell_type": "code",
   "execution_count": 29,
   "metadata": {
    "colab": {
     "base_uri": "https://localhost:8080/",
     "height": 288
    },
    "deletable": false,
    "editable": false,
    "id": "11",
    "outputId": "fa5c9ac0-0329-419b-e45a-c1ec3c1a927f",
    "state": "read_only"
   },
   "outputs": [
    {
     "name": "stderr",
     "output_type": "stream",
     "text": [
      "/Users/roohaan111/opt/anaconda3/lib/python3.8/site-packages/matplotlib/patches.py:1390: VisibleDeprecationWarning: Creating an ndarray from ragged nested sequences (which is a list-or-tuple of lists-or-tuples-or ndarrays with different lengths or shapes) is deprecated. If you meant to do this, you must specify 'dtype=object' when creating the ndarray\n",
      "  verts = np.dot(coords, M) + (x + dx, y + dy)\n"
     ]
    },
    {
     "data": {
      "image/png": "[encoded data removed]",
      "text/plain": [
       "<Figure size 576x216 with 1 Axes>"
      ]
     },
     "metadata": {
      "needs_background": "light"
     },
     "output_type": "display_data"
    }
   ],
   "source": [
    "# A more detailed figure\n",
    "\n",
    "X_new = np.linspace(0, 3, 1000).reshape(-1, 1)\n",
    "y_proba = log_reg.predict_proba(X_new)\n",
    "decision_boundary = X_new[y_proba[:, 1] >= 0.5][0]\n",
    "\n",
    "plt.figure(figsize=(8, 3))\n",
    "plt.plot(X[y==0], y[y==0], \"bs\")\n",
    "plt.plot(X[y==1], y[y==1], \"g^\")\n",
    "plt.plot([decision_boundary, decision_boundary], [-1, 2], \"k:\", linewidth=2)\n",
    "plt.plot(X_new, y_proba[:, 1], \"g-\", linewidth=2, label=\"Iris virginica\")\n",
    "plt.plot(X_new, y_proba[:, 0], \"b--\", linewidth=2, label=\"Not Iris virginica\")\n",
    "plt.text(decision_boundary+0.02, 0.15, \"Decision  boundary\", fontsize=14, color=\"k\", ha=\"center\")\n",
    "plt.arrow(decision_boundary, 0.08, -0.3, 0, head_width=0.05, head_length=0.1, fc='b', ec='b')\n",
    "plt.arrow(decision_boundary, 0.92, 0.3, 0, head_width=0.05, head_length=0.1, fc='g', ec='g')\n",
    "plt.xlabel(\"Petal width (cm)\", fontsize=14)\n",
    "plt.ylabel(\"Probability\", fontsize=14)\n",
    "plt.legend(loc=\"center left\", fontsize=14)\n",
    "plt.axis([0, 3, -0.02, 1.02])\n",
    "plt.show()"
   ]
  },
  {
   "cell_type": "code",
   "execution_count": 30,
   "metadata": {
    "colab": {
     "base_uri": "https://localhost:8080/"
    },
    "deletable": false,
    "editable": false,
    "id": "12",
    "outputId": "6c53371d-cd68-41a2-c590-cceaa476e5a1",
    "state": "read_only"
   },
   "outputs": [
    {
     "data": {
      "text/plain": [
       "array([1.66066066])"
      ]
     },
     "execution_count": 30,
     "metadata": {},
     "output_type": "execute_result"
    }
   ],
   "source": [
    "# Check the decision boundary value\n",
    "\n",
    "decision_boundary"
   ]
  },
  {
   "cell_type": "code",
   "execution_count": 31,
   "metadata": {
    "colab": {
     "base_uri": "https://localhost:8080/"
    },
    "deletable": false,
    "id": "13",
    "outputId": "a8bb8b78-e59b-4eef-c096-2289870c728d",
    "starter_code": "# Prediction on two sides of the boundary, one for value 1.7 and the other for value 1.5\n\nlog_reg.",
    "state": "graded"
   },
   "outputs": [
    {
     "data": {
      "text/plain": [
       "array([1, 0])"
      ]
     },
     "execution_count": 31,
     "metadata": {},
     "output_type": "execute_result"
    }
   ],
   "source": [
    "# Prediction on two sides of the boundary, one for value 1.7 and the other for value 1.5\n",
    "\n",
    "log_reg.predict(np.array([1.7, 1.5]).reshape(-1,1))"
   ]
  },
  {
   "cell_type": "markdown",
   "metadata": {
    "id": "DXB5FyZ6h_XL",
    "state": "normal"
   },
   "source": [
    "# Working with Multiple Features"
   ]
  },
  {
   "cell_type": "code",
   "execution_count": 77,
   "metadata": {
    "colab": {
     "base_uri": "https://localhost:8080/"
    },
    "deletable": false,
    "id": "14",
    "outputId": "ad88e54f-66ff-4bcc-a74f-d428e861834d",
    "starter_code": "# This time, we will work with two features: petal length and petal width\n# which are the 2nd and 3rd features (starting from 0th) in iris[\"data\"]\n# Write code to select those two features in X\n# y remains the same as previous\n\nX = \ny = ",
    "state": "graded"
   },
   "outputs": [],
   "source": [
    "# This time, we will work with two features: petal length and petal width\n",
    "# which are the 2nd and 3rd features (starting from 0th) in iris[\"data\"]\n",
    "# Write code to select those two features in X\n",
    "# y remains the same as previous\n",
    "\n",
    "X = np.array(iris['data'][:,2:4])\n",
    "tar =  iris['target']\n",
    "\n",
    "y = np.array([1 if i == 2 else 0 for i in tar])"
   ]
  },
  {
   "cell_type": "code",
   "execution_count": 78,
   "metadata": {
    "deletable": false,
    "id": "fit_sif",
    "starter_code": "# Initialize a new LogisticRegression class and fit it with the new data\n\nlog_reg = \nlog_reg.",
    "state": "graded"
   },
   "outputs": [
    {
     "data": {
      "text/plain": [
       "LogisticRegression()"
      ]
     },
     "execution_count": 78,
     "metadata": {},
     "output_type": "execute_result"
    }
   ],
   "source": [
    "# Initialize a new LogisticRegression class and fit it with the new data\n",
    "\n",
    "log_reg = LogisticRegression()\n",
    "log_reg.fit(X,y.ravel())"
   ]
  },
  {
   "cell_type": "code",
   "execution_count": 79,
   "metadata": {
    "deletable": false,
    "id": "15",
    "starter_code": "# Create new two-dimensional data for prediction\n# You should use numpy's meshgrid to create a grid of 2D-points\n# Create 500 points between 2.9 and 7 for x0 and 500 points between 0.8 and 2.7 for x1\n# which are going to be the two features of the new data\n\nx0, x1 = \nX_new = ",
    "state": "graded"
   },
   "outputs": [],
   "source": [
    "# Create new two-dimensional data for prediction\n",
    "# You should use numpy's meshgrid to create a grid of 2D-points\n",
    "# Create 500 points between 2.9 and 7 for x0 and 500 points between 0.8 and 2.7 for x1\n",
    "# which are going to be the two features of the new data\n",
    "\n",
    "# x0, x1 = np.linspace(2.9, 7, 500).reshape(-1, 1), np.linspace(0.8, 2.7, 500).reshape(-1, 1)\n",
    "# X_new = np.concatenate((x0, x1), axis = 1)\n",
    "\n",
    "x0, x1 = np.linspace(2.9, 7, 500).reshape(250, 2), np.linspace(0.8, 2.7, 500).reshape(250, 2)\n",
    "X_new = np.concatenate((x0, x1), axis = 0)\n"
   ]
  },
  {
   "cell_type": "code",
   "execution_count": 80,
   "metadata": {
    "deletable": false,
    "id": "16",
    "starter_code": "# Predict the class-probabilities assigned to the new data created\n\ny_proba = ",
    "state": "graded"
   },
   "outputs": [
    {
     "data": {
      "text/plain": [
       "array([[9.27934692e-01, 7.20653075e-02],\n",
       "       [9.22050824e-01, 7.79491757e-02],\n",
       "       [9.15730187e-01, 8.42698134e-02],\n",
       "       [9.08947641e-01, 9.10523591e-02],\n",
       "       [9.01677808e-01, 9.83221918e-02],\n",
       "       [8.93895292e-01, 1.06104708e-01],\n",
       "       [8.85574938e-01, 1.14425062e-01],\n",
       "       [8.76692134e-01, 1.23307866e-01],\n",
       "       [8.67223147e-01, 1.32776853e-01],\n",
       "       [8.57145509e-01, 1.42854491e-01],\n",
       "       [8.46438428e-01, 1.53561572e-01],\n",
       "       [8.35083245e-01, 1.64916755e-01],\n",
       "       [8.23063917e-01, 1.76936083e-01],\n",
       "       [8.10367526e-01, 1.89632474e-01],\n",
       "       [7.96984801e-01, 2.03015199e-01],\n",
       "       [7.82910637e-01, 2.17089363e-01],\n",
       "       [7.68144620e-01, 2.31855380e-01],\n",
       "       [7.52691506e-01, 2.47308494e-01],\n",
       "       [7.36561669e-01, 2.63438331e-01],\n",
       "       [7.19771485e-01, 2.80228515e-01],\n",
       "       [7.02343635e-01, 2.97656365e-01],\n",
       "       [6.84307305e-01, 3.15692695e-01],\n",
       "       [6.65698272e-01, 3.34301728e-01],\n",
       "       [6.46558863e-01, 3.53441137e-01],\n",
       "       [6.26937763e-01, 3.73062237e-01],\n",
       "       [6.06889679e-01, 3.93110321e-01],\n",
       "       [5.86474853e-01, 4.13525147e-01],\n",
       "       [5.65758429e-01, 4.34241571e-01],\n",
       "       [5.44809683e-01, 4.55190317e-01],\n",
       "       [5.23701134e-01, 4.76298866e-01],\n",
       "       [5.02507571e-01, 4.97492429e-01],\n",
       "       [4.81304992e-01, 5.18695008e-01],\n",
       "       [4.60169530e-01, 5.39830470e-01],\n",
       "       [4.39176352e-01, 5.60823648e-01],\n",
       "       [4.18398609e-01, 5.81601391e-01],\n",
       "       [3.97906426e-01, 6.02093574e-01],\n",
       "       [3.77765998e-01, 6.22234002e-01],\n",
       "       [3.58038789e-01, 6.41961211e-01],\n",
       "       [3.38780864e-01, 6.61219136e-01],\n",
       "       [3.20042368e-01, 6.79957632e-01],\n",
       "       [3.01867154e-01, 6.98132846e-01],\n",
       "       [2.84292556e-01, 7.15707444e-01],\n",
       "       [2.67349317e-01, 7.32650683e-01],\n",
       "       [2.51061639e-01, 7.48938361e-01],\n",
       "       [2.35447367e-01, 7.64552633e-01],\n",
       "       [2.20518262e-01, 7.79481738e-01],\n",
       "       [2.06280370e-01, 7.93719630e-01],\n",
       "       [1.92734456e-01, 8.07265544e-01],\n",
       "       [1.79876480e-01, 8.20123520e-01],\n",
       "       [1.67698107e-01, 8.32301893e-01],\n",
       "       [1.56187234e-01, 8.43812766e-01],\n",
       "       [1.45328511e-01, 8.54671489e-01],\n",
       "       [1.35103853e-01, 8.64896147e-01],\n",
       "       [1.25492931e-01, 8.74507069e-01],\n",
       "       [1.16473632e-01, 8.83526368e-01],\n",
       "       [1.08022488e-01, 8.91977512e-01],\n",
       "       [1.00115062e-01, 8.99884938e-01],\n",
       "       [9.27262986e-02, 9.07273701e-01],\n",
       "       [8.58308347e-02, 9.14169165e-01],\n",
       "       [7.94032654e-02, 9.20596735e-01],\n",
       "       [7.34183772e-02, 9.26581623e-01],\n",
       "       [6.78513421e-02, 9.32148658e-01],\n",
       "       [6.26778796e-02, 9.37322120e-01],\n",
       "       [5.78743872e-02, 9.42125613e-01],\n",
       "       [5.34180440e-02, 9.46581956e-01],\n",
       "       [4.92868893e-02, 9.50713111e-01],\n",
       "       [4.54598793e-02, 9.54540121e-01],\n",
       "       [4.19169259e-02, 9.58083074e-01],\n",
       "       [3.86389182e-02, 9.61361082e-01],\n",
       "       [3.56077316e-02, 9.64392268e-01],\n",
       "       [3.28062240e-02, 9.67193776e-01],\n",
       "       [3.02182241e-02, 9.69781776e-01],\n",
       "       [2.78285107e-02, 9.72171489e-01],\n",
       "       [2.56227871e-02, 9.74377213e-01],\n",
       "       [2.35876502e-02, 9.76412350e-01],\n",
       "       [2.17105561e-02, 9.78289444e-01],\n",
       "       [1.99797836e-02, 9.80020216e-01],\n",
       "       [1.83843960e-02, 9.81615604e-01],\n",
       "       [1.69142015e-02, 9.83085799e-01],\n",
       "       [1.55597144e-02, 9.84440286e-01],\n",
       "       [1.43121153e-02, 9.85687885e-01],\n",
       "       [1.31632129e-02, 9.86836787e-01],\n",
       "       [1.21054057e-02, 9.87894594e-01],\n",
       "       [1.11316459e-02, 9.88868354e-01],\n",
       "       [1.02354039e-02, 9.89764596e-01],\n",
       "       [9.41063431e-03, 9.90589366e-01],\n",
       "       [8.65174376e-03, 9.91348256e-01],\n",
       "       [7.95356015e-03, 9.92046440e-01],\n",
       "       [7.31130345e-03, 9.92688697e-01],\n",
       "       [6.72055818e-03, 9.93279442e-01],\n",
       "       [6.17724745e-03, 9.93822753e-01],\n",
       "       [5.67760858e-03, 9.94322391e-01],\n",
       "       [5.21817018e-03, 9.94781830e-01],\n",
       "       [4.79573073e-03, 9.95204269e-01],\n",
       "       [4.40733855e-03, 9.95592661e-01],\n",
       "       [4.05027310e-03, 9.95949727e-01],\n",
       "       [3.72202756e-03, 9.96277972e-01],\n",
       "       [3.42029261e-03, 9.96579707e-01],\n",
       "       [3.14294134e-03, 9.96857059e-01],\n",
       "       [2.88801530e-03, 9.97111985e-01],\n",
       "       [2.65371143e-03, 9.97346289e-01],\n",
       "       [2.43837008e-03, 9.97561630e-01],\n",
       "       [2.24046383e-03, 9.97759536e-01],\n",
       "       [2.05858716e-03, 9.97941413e-01],\n",
       "       [1.89144692e-03, 9.98108553e-01],\n",
       "       [1.73785345e-03, 9.98262147e-01],\n",
       "       [1.59671246e-03, 9.98403288e-01],\n",
       "       [1.46701749e-03, 9.98532983e-01],\n",
       "       [1.34784294e-03, 9.98652157e-01],\n",
       "       [1.23833763e-03, 9.98761662e-01],\n",
       "       [1.13771894e-03, 9.98862281e-01],\n",
       "       [1.04526726e-03, 9.98954733e-01],\n",
       "       [9.60321036e-04, 9.99039679e-01],\n",
       "       [8.82272079e-04, 9.99117728e-01],\n",
       "       [8.10561311e-04, 9.99189439e-01],\n",
       "       [7.44674826e-04, 9.99255325e-01],\n",
       "       [6.84140258e-04, 9.99315860e-01],\n",
       "       [6.28523445e-04, 9.99371477e-01],\n",
       "       [5.77425359e-04, 9.99422575e-01],\n",
       "       [5.30479271e-04, 9.99469521e-01],\n",
       "       [4.87348153e-04, 9.99512652e-01],\n",
       "       [4.47722281e-04, 9.99552278e-01],\n",
       "       [4.11317029e-04, 9.99588683e-01],\n",
       "       [3.77870847e-04, 9.99622129e-01],\n",
       "       [3.47143392e-04, 9.99652857e-01],\n",
       "       [3.18913814e-04, 9.99681086e-01],\n",
       "       [2.92979183e-04, 9.99707021e-01],\n",
       "       [2.69153034e-04, 9.99730847e-01],\n",
       "       [2.47264036e-04, 9.99752736e-01],\n",
       "       [2.27154767e-04, 9.99772845e-01],\n",
       "       [2.08680585e-04, 9.99791319e-01],\n",
       "       [1.91708595e-04, 9.99808291e-01],\n",
       "       [1.76116693e-04, 9.99823883e-01],\n",
       "       [1.61792695e-04, 9.99838207e-01],\n",
       "       [1.48633529e-04, 9.99851366e-01],\n",
       "       [1.36544499e-04, 9.99863456e-01],\n",
       "       [1.25438599e-04, 9.99874561e-01],\n",
       "       [1.15235899e-04, 9.99884764e-01],\n",
       "       [1.05862959e-04, 9.99894137e-01],\n",
       "       [9.72523121e-05, 9.99902748e-01],\n",
       "       [8.93419725e-05, 9.99910658e-01],\n",
       "       [8.20749938e-05, 9.99917925e-01],\n",
       "       [7.53990586e-05, 9.99924601e-01],\n",
       "       [6.92661027e-05, 9.99930734e-01],\n",
       "       [6.36319695e-05, 9.99936368e-01],\n",
       "       [5.84560921e-05, 9.99941544e-01],\n",
       "       [5.37012023e-05, 9.99946299e-01],\n",
       "       [4.93330620e-05, 9.99950667e-01],\n",
       "       [4.53202170e-05, 9.99954680e-01],\n",
       "       [4.16337708e-05, 9.99958366e-01],\n",
       "       [3.82471768e-05, 9.99961753e-01],\n",
       "       [3.51360471e-05, 9.99964864e-01],\n",
       "       [3.22779769e-05, 9.99967722e-01],\n",
       "       [2.96523838e-05, 9.99970348e-01],\n",
       "       [2.72403589e-05, 9.99972760e-01],\n",
       "       [2.50245314e-05, 9.99974975e-01],\n",
       "       [2.29889430e-05, 9.99977011e-01],\n",
       "       [2.11189334e-05, 9.99978881e-01],\n",
       "       [1.94010347e-05, 9.99980599e-01],\n",
       "       [1.78228743e-05, 9.99982177e-01],\n",
       "       [1.63730858e-05, 9.99983627e-01],\n",
       "       [1.50412276e-05, 9.99984959e-01],\n",
       "       [1.38177070e-05, 9.99986182e-01],\n",
       "       [1.26937118e-05, 9.99987306e-01],\n",
       "       [1.16611464e-05, 9.99988339e-01],\n",
       "       [1.07125737e-05, 9.99989287e-01],\n",
       "       [9.84116171e-06, 9.99990159e-01],\n",
       "       [9.04063387e-06, 9.99990959e-01],\n",
       "       [8.30522431e-06, 9.99991695e-01],\n",
       "       [7.62963611e-06, 9.99992370e-01],\n",
       "       [7.00900323e-06, 9.99992991e-01],\n",
       "       [6.43885542e-06, 9.99993561e-01],\n",
       "       [5.91508604e-06, 9.99994085e-01],\n",
       "       [5.43392251e-06, 9.99994566e-01],\n",
       "       [4.99189910e-06, 9.99995008e-01],\n",
       "       [4.58583200e-06, 9.99995414e-01],\n",
       "       [4.21279637e-06, 9.99995787e-01],\n",
       "       [3.87010530e-06, 9.99996130e-01],\n",
       "       [3.55529043e-06, 9.99996445e-01],\n",
       "       [3.26608419e-06, 9.99996734e-01],\n",
       "       [3.00040345e-06, 9.99997000e-01],\n",
       "       [2.75633454e-06, 9.99997244e-01],\n",
       "       [2.53211946e-06, 9.99997468e-01],\n",
       "       [2.32614319e-06, 9.99997674e-01],\n",
       "       [2.13692211e-06, 9.99997863e-01],\n",
       "       [1.96309327e-06, 9.99998037e-01],\n",
       "       [1.80340458e-06, 9.99998197e-01],\n",
       "       [1.65670582e-06, 9.99998343e-01],\n",
       "       [1.52194032e-06, 9.99998478e-01],\n",
       "       [1.39813736e-06, 9.99998602e-01],\n",
       "       [1.28440520e-06, 9.99998716e-01],\n",
       "       [1.17992463e-06, 9.99998820e-01],\n",
       "       [1.08394307e-06, 9.99998916e-01],\n",
       "       [9.95769176e-07, 9.99999004e-01],\n",
       "       [9.14767822e-07, 9.99999085e-01],\n",
       "       [8.40355559e-07, 9.99999160e-01],\n",
       "       [7.71996395e-07, 9.99999228e-01],\n",
       "       [7.09197939e-07, 9.99999291e-01],\n",
       "       [6.51507854e-07, 9.99999348e-01],\n",
       "       [5.98510597e-07, 9.99999401e-01],\n",
       "       [5.49824428e-07, 9.99999450e-01],\n",
       "       [5.05098659e-07, 9.99999495e-01],\n",
       "       [4.64011131e-07, 9.99999536e-01],\n",
       "       [4.26265889e-07, 9.99999574e-01],\n",
       "       [3.91591054e-07, 9.99999608e-01],\n",
       "       [3.59736861e-07, 9.99999640e-01],\n",
       "       [3.30473864e-07, 9.99999670e-01],\n",
       "       [3.03591282e-07, 9.99999696e-01],\n",
       "       [2.78895478e-07, 9.99999721e-01],\n",
       "       [2.56208567e-07, 9.99999744e-01],\n",
       "       [2.35367136e-07, 9.99999765e-01],\n",
       "       [2.16221062e-07, 9.99999784e-01],\n",
       "       [1.98632436e-07, 9.99999801e-01],\n",
       "       [1.82474567e-07, 9.99999818e-01],\n",
       "       [1.67631069e-07, 9.99999832e-01],\n",
       "       [1.53995023e-07, 9.99999846e-01],\n",
       "       [1.41468209e-07, 9.99999859e-01],\n",
       "       [1.29960396e-07, 9.99999870e-01],\n",
       "       [1.19388693e-07, 9.99999881e-01],\n",
       "       [1.09676951e-07, 9.99999890e-01],\n",
       "       [1.00755215e-07, 9.99999899e-01],\n",
       "       [9.25592242e-08, 9.99999907e-01],\n",
       "       [8.50299403e-08, 9.99999915e-01],\n",
       "       [7.81131303e-08, 9.99999922e-01],\n",
       "       [7.17589723e-08, 9.99999928e-01],\n",
       "       [6.59216971e-08, 9.99999934e-01],\n",
       "       [6.05592582e-08, 9.99999939e-01],\n",
       "       [5.56330300e-08, 9.99999944e-01],\n",
       "       [5.11075287e-08, 9.99999949e-01],\n",
       "       [4.69501571e-08, 9.99999953e-01],\n",
       "       [4.31309691e-08, 9.99999957e-01],\n",
       "       [3.96224553e-08, 9.99999960e-01],\n",
       "       [3.63993435e-08, 9.99999964e-01],\n",
       "       [3.34384176e-08, 9.99999967e-01],\n",
       "       [3.07183501e-08, 9.99999969e-01],\n",
       "       [2.82195479e-08, 9.99999972e-01],\n",
       "       [2.59240123e-08, 9.99999974e-01],\n",
       "       [2.38152081e-08, 9.99999976e-01],\n",
       "       [2.18779461e-08, 9.99999978e-01],\n",
       "       [2.00982717e-08, 9.99999980e-01],\n",
       "       [1.84633661e-08, 9.99999982e-01],\n",
       "       [1.69614528e-08, 9.99999983e-01],\n",
       "       [1.55817135e-08, 9.99999984e-01],\n",
       "       [1.43142098e-08, 9.99999986e-01],\n",
       "       [1.31498121e-08, 9.99999987e-01],\n",
       "       [1.20801330e-08, 9.99999988e-01],\n",
       "       [1.10974675e-08, 9.99999989e-01],\n",
       "       [1.01947374e-08, 9.99999990e-01],\n",
       "       [9.36544053e-09, 9.99999991e-01],\n",
       "       [8.60360327e-09, 9.99999991e-01],\n",
       "       [9.99998498e-01, 1.50230093e-06],\n",
       "       [9.99998437e-01, 1.56254572e-06],\n",
       "       [9.99998375e-01, 1.62520643e-06],\n",
       "       [9.99998310e-01, 1.69037994e-06],\n",
       "       [9.99998242e-01, 1.75816701e-06],\n",
       "       [9.99998171e-01, 1.82867245e-06],\n",
       "       [9.99998098e-01, 1.90200527e-06],\n",
       "       [9.99998022e-01, 1.97827885e-06],\n",
       "       [9.99997942e-01, 2.05761113e-06],\n",
       "       [9.99997860e-01, 2.14012475e-06],\n",
       "       [9.99997774e-01, 2.22594730e-06],\n",
       "       [9.99997685e-01, 2.31521147e-06],\n",
       "       [9.99997592e-01, 2.40805527e-06],\n",
       "       [9.99997495e-01, 2.50462225e-06],\n",
       "       [9.99997395e-01, 2.60506171e-06],\n",
       "       [9.99997290e-01, 2.70952896e-06],\n",
       "       [9.99997182e-01, 2.81818549e-06],\n",
       "       [9.99997069e-01, 2.93119932e-06],\n",
       "       [9.99996951e-01, 3.04874518e-06],\n",
       "       [9.99996829e-01, 3.17100480e-06],\n",
       "       [9.99996702e-01, 3.29816721e-06],\n",
       "       [9.99996570e-01, 3.43042902e-06],\n",
       "       [9.99996432e-01, 3.56799473e-06],\n",
       "       [9.99996289e-01, 3.71107702e-06],\n",
       "       [9.99996140e-01, 3.85989711e-06],\n",
       "       [9.99995985e-01, 4.01468511e-06],\n",
       "       [9.99995824e-01, 4.17568032e-06],\n",
       "       [9.99995657e-01, 4.34313167e-06],\n",
       "       [9.99995483e-01, 4.51729805e-06],\n",
       "       [9.99995302e-01, 4.69844874e-06],\n",
       "       [9.99995113e-01, 4.88686382e-06],\n",
       "       [9.99994917e-01, 5.08283460e-06],\n",
       "       [9.99994713e-01, 5.28666407e-06],\n",
       "       [9.99994501e-01, 5.49866737e-06],\n",
       "       [9.99994281e-01, 5.71917227e-06],\n",
       "       [9.99994051e-01, 5.94851971e-06],\n",
       "       [9.99993813e-01, 6.18706426e-06],\n",
       "       [9.99993565e-01, 6.43517475e-06],\n",
       "       [9.99993307e-01, 6.69323477e-06],\n",
       "       [9.99993038e-01, 6.96164331e-06],\n",
       "       [9.99992759e-01, 7.24081534e-06],\n",
       "       [9.99992469e-01, 7.53118250e-06],\n",
       "       [9.99992167e-01, 7.83319371e-06],\n",
       "       [9.99991853e-01, 8.14731590e-06],\n",
       "       [9.99991526e-01, 8.47403473e-06],\n",
       "       [9.99991186e-01, 8.81385533e-06],\n",
       "       [9.99990833e-01, 9.16730308e-06],\n",
       "       [9.99990465e-01, 9.53492445e-06],\n",
       "       [9.99990083e-01, 9.91728778e-06],\n",
       "       [9.99989685e-01, 1.03149842e-05],\n",
       "       [9.99989271e-01, 1.07286287e-05],\n",
       "       [9.99988841e-01, 1.11588606e-05],\n",
       "       [9.99988394e-01, 1.16063452e-05],\n",
       "       [9.99987928e-01, 1.20717743e-05],\n",
       "       [9.99987444e-01, 1.25558675e-05],\n",
       "       [9.99986941e-01, 1.30593732e-05],\n",
       "       [9.99986417e-01, 1.35830697e-05],\n",
       "       [9.99985872e-01, 1.41277668e-05],\n",
       "       [9.99985306e-01, 1.46943066e-05],\n",
       "       [9.99984716e-01, 1.52835650e-05],\n",
       "       [9.99984104e-01, 1.58964529e-05],\n",
       "       [9.99983466e-01, 1.65339179e-05],\n",
       "       [9.99982803e-01, 1.71969455e-05],\n",
       "       [9.99982113e-01, 1.78865607e-05],\n",
       "       [9.99981396e-01, 1.86038297e-05],\n",
       "       [9.99980650e-01, 1.93498613e-05],\n",
       "       [9.99979874e-01, 2.01258089e-05],\n",
       "       [9.99979067e-01, 2.09328721e-05],\n",
       "       [9.99978228e-01, 2.17722986e-05],\n",
       "       [9.99977355e-01, 2.26453860e-05],\n",
       "       [9.99976447e-01, 2.35534842e-05],\n",
       "       [9.99975502e-01, 2.44979969e-05],\n",
       "       [9.99974520e-01, 2.54803843e-05],\n",
       "       [9.99973498e-01, 2.65021652e-05],\n",
       "       [9.99972435e-01, 2.75649190e-05],\n",
       "       [9.99971330e-01, 2.86702887e-05],\n",
       "       [9.99970180e-01, 2.98199831e-05],\n",
       "       [9.99968984e-01, 3.10157794e-05],\n",
       "       [9.99967740e-01, 3.22595262e-05],\n",
       "       [9.99966447e-01, 3.35531461e-05],\n",
       "       [9.99965101e-01, 3.48986390e-05],\n",
       "       [9.99963702e-01, 3.62980845e-05],\n",
       "       [9.99962246e-01, 3.77536462e-05],\n",
       "       [9.99960732e-01, 3.92675739e-05],\n",
       "       [9.99959158e-01, 4.08422079e-05],\n",
       "       [9.99957520e-01, 4.24799822e-05],\n",
       "       [9.99955817e-01, 4.41834284e-05],\n",
       "       [9.99954045e-01, 4.59551796e-05],\n",
       "       [9.99952202e-01, 4.77979745e-05],\n",
       "       [9.99950285e-01, 4.97146615e-05],\n",
       "       [9.99948292e-01, 5.17082032e-05],\n",
       "       [9.99946218e-01, 5.37816809e-05],\n",
       "       [9.99944062e-01, 5.59382996e-05],\n",
       "       [9.99941819e-01, 5.81813927e-05],\n",
       "       [9.99939486e-01, 6.05144269e-05],\n",
       "       [9.99937059e-01, 6.29410084e-05],\n",
       "       [9.99934535e-01, 6.54648876e-05],\n",
       "       [9.99931910e-01, 6.80899652e-05],\n",
       "       [9.99929180e-01, 7.08202983e-05],\n",
       "       [9.99926340e-01, 7.36601068e-05],\n",
       "       [9.99923386e-01, 7.66137794e-05],\n",
       "       [9.99920314e-01, 7.96858810e-05],\n",
       "       [9.99917119e-01, 8.28811592e-05],\n",
       "       [9.99913795e-01, 8.62045519e-05],\n",
       "       [9.99910339e-01, 8.96611951e-05],\n",
       "       [9.99906744e-01, 9.32564303e-05],\n",
       "       [9.99903004e-01, 9.69958133e-05],\n",
       "       [9.99899115e-01, 1.00885122e-04],\n",
       "       [9.99895070e-01, 1.04930368e-04],\n",
       "       [9.99890862e-01, 1.09137799e-04],\n",
       "       [9.99886486e-01, 1.13513919e-04],\n",
       "       [9.99881935e-01, 1.18065488e-04],\n",
       "       [9.99877200e-01, 1.22799539e-04],\n",
       "       [9.99872277e-01, 1.27723386e-04],\n",
       "       [9.99867155e-01, 1.32844636e-04],\n",
       "       [9.99861829e-01, 1.38171202e-04],\n",
       "       [9.99856289e-01, 1.43711312e-04],\n",
       "       [9.99850526e-01, 1.49473526e-04],\n",
       "       [9.99844533e-01, 1.55466743e-04],\n",
       "       [9.99838300e-01, 1.61700223e-04],\n",
       "       [9.99831816e-01, 1.68183594e-04],\n",
       "       [9.99825073e-01, 1.74926870e-04],\n",
       "       [9.99818060e-01, 1.81940467e-04],\n",
       "       [9.99810765e-01, 1.89235217e-04],\n",
       "       [9.99803178e-01, 1.96822386e-04],\n",
       "       [9.99795286e-01, 2.04713691e-04],\n",
       "       [9.99787079e-01, 2.12921320e-04],\n",
       "       [9.99778542e-01, 2.21457946e-04],\n",
       "       [9.99769663e-01, 2.30336751e-04],\n",
       "       [9.99760429e-01, 2.39571444e-04],\n",
       "       [9.99750824e-01, 2.49176284e-04],\n",
       "       [9.99740834e-01, 2.59166098e-04],\n",
       "       [9.99730444e-01, 2.69556310e-04],\n",
       "       [9.99719637e-01, 2.80362958e-04],\n",
       "       [9.99708397e-01, 2.91602724e-04],\n",
       "       [9.99696707e-01, 3.03292956e-04],\n",
       "       [9.99684548e-01, 3.15451696e-04],\n",
       "       [9.99671902e-01, 3.28097710e-04],\n",
       "       [9.99658749e-01, 3.41250511e-04],\n",
       "       [9.99645070e-01, 3.54930396e-04],\n",
       "       [9.99630842e-01, 3.69158470e-04],\n",
       "       [9.99616043e-01, 3.83956686e-04],\n",
       "       [9.99600652e-01, 3.99347871e-04],\n",
       "       [9.99584644e-01, 4.15355766e-04],\n",
       "       [9.99567995e-01, 4.32005062e-04],\n",
       "       [9.99550679e-01, 4.49321436e-04],\n",
       "       [9.99532668e-01, 4.67331589e-04],\n",
       "       [9.99513937e-01, 4.86063293e-04],\n",
       "       [9.99494455e-01, 5.05545426e-04],\n",
       "       [9.99474192e-01, 5.25808021e-04],\n",
       "       [9.99453118e-01, 5.46882310e-04],\n",
       "       [9.99431199e-01, 5.68800771e-04],\n",
       "       [9.99408403e-01, 5.91597182e-04],\n",
       "       [9.99384693e-01, 6.15306664e-04],\n",
       "       [9.99360034e-01, 6.39965745e-04],\n",
       "       [9.99334388e-01, 6.65612407e-04],\n",
       "       [9.99307714e-01, 6.92286149e-04],\n",
       "       [9.99279972e-01, 7.20028043e-04],\n",
       "       [9.99251119e-01, 7.48880802e-04],\n",
       "       [9.99221111e-01, 7.78888839e-04],\n",
       "       [9.99189902e-01, 8.10098339e-04],\n",
       "       [9.99157443e-01, 8.42557326e-04],\n",
       "       [9.99123684e-01, 8.76315738e-04],\n",
       "       [9.99088574e-01, 9.11425500e-04],\n",
       "       [9.99052059e-01, 9.47940608e-04],\n",
       "       [9.99014083e-01, 9.85917203e-04],\n",
       "       [9.98974586e-01, 1.02541366e-03],\n",
       "       [9.98933509e-01, 1.06649069e-03],\n",
       "       [9.98890789e-01, 1.10921139e-03],\n",
       "       [9.98846359e-01, 1.15364139e-03],\n",
       "       [9.98800151e-01, 1.19984891e-03],\n",
       "       [9.98752095e-01, 1.24790491e-03],\n",
       "       [9.98702117e-01, 1.29788312e-03],\n",
       "       [9.98650140e-01, 1.34986025e-03],\n",
       "       [9.98596084e-01, 1.40391600e-03],\n",
       "       [9.98539867e-01, 1.46013328e-03],\n",
       "       [9.98481402e-01, 1.51859826e-03],\n",
       "       [9.98420599e-01, 1.57940052e-03],\n",
       "       [9.98357367e-01, 1.64263320e-03],\n",
       "       [9.98291607e-01, 1.70839312e-03],\n",
       "       [9.98223219e-01, 1.77678094e-03],\n",
       "       [9.98152099e-01, 1.84790130e-03],\n",
       "       [9.98078137e-01, 1.92186295e-03],\n",
       "       [9.98001221e-01, 1.99877896e-03],\n",
       "       [9.97921233e-01, 2.07876687e-03],\n",
       "       [9.97838051e-01, 2.16194883e-03],\n",
       "       [9.97751548e-01, 2.24845182e-03],\n",
       "       [9.97661592e-01, 2.33840781e-03],\n",
       "       [9.97568046e-01, 2.43195400e-03],\n",
       "       [9.97470767e-01, 2.52923294e-03],\n",
       "       [9.97369607e-01, 2.63039280e-03],\n",
       "       [9.97264412e-01, 2.73558759e-03],\n",
       "       [9.97155023e-01, 2.84497733e-03],\n",
       "       [9.97041272e-01, 2.95872834e-03],\n",
       "       [9.96922987e-01, 3.07701342e-03],\n",
       "       [9.96799988e-01, 3.20001217e-03],\n",
       "       [9.96672089e-01, 3.32791119e-03],\n",
       "       [9.96539096e-01, 3.46090437e-03],\n",
       "       [9.96400807e-01, 3.59919316e-03],\n",
       "       [9.96257013e-01, 3.74298685e-03],\n",
       "       [9.96107497e-01, 3.89250289e-03],\n",
       "       [9.95952033e-01, 4.04796719e-03],\n",
       "       [9.95790386e-01, 4.20961439e-03],\n",
       "       [9.95622312e-01, 4.37768827e-03],\n",
       "       [9.95447558e-01, 4.55244202e-03],\n",
       "       [9.95265861e-01, 4.73413863e-03],\n",
       "       [9.95076949e-01, 4.92305123e-03],\n",
       "       [9.94880537e-01, 5.11946349e-03],\n",
       "       [9.94676330e-01, 5.32366997e-03],\n",
       "       [9.94464023e-01, 5.53597657e-03],\n",
       "       [9.94243299e-01, 5.75670090e-03],\n",
       "       [9.94013827e-01, 5.98617273e-03],\n",
       "       [9.93775266e-01, 6.22473443e-03],\n",
       "       [9.93527259e-01, 6.47274141e-03],\n",
       "       [9.93269437e-01, 6.73056260e-03],\n",
       "       [9.93001419e-01, 6.99858095e-03],\n",
       "       [9.92722806e-01, 7.27719389e-03],\n",
       "       [9.92433186e-01, 7.56681387e-03],\n",
       "       [9.92132131e-01, 7.86786887e-03],\n",
       "       [9.91819197e-01, 8.18080299e-03],\n",
       "       [9.91493923e-01, 8.50607694e-03],\n",
       "       [9.91155831e-01, 8.84416866e-03],\n",
       "       [9.90804426e-01, 9.19557391e-03],\n",
       "       [9.90439193e-01, 9.56080686e-03],\n",
       "       [9.90059599e-01, 9.94040071e-03],\n",
       "       [9.89665092e-01, 1.03349084e-02],\n",
       "       [9.89255097e-01, 1.07449030e-02],\n",
       "       [9.88829021e-01, 1.11709790e-02],\n",
       "       [9.88386248e-01, 1.16137521e-02],\n",
       "       [9.87926139e-01, 1.20738606e-02],\n",
       "       [9.87448034e-01, 1.25519661e-02],\n",
       "       [9.86951246e-01, 1.30487537e-02],\n",
       "       [9.86435067e-01, 1.35649333e-02],\n",
       "       [9.85898760e-01, 1.41012400e-02],\n",
       "       [9.85341565e-01, 1.46584353e-02],\n",
       "       [9.84762693e-01, 1.52373072e-02],\n",
       "       [9.84161328e-01, 1.58386717e-02],\n",
       "       [9.83536627e-01, 1.64633733e-02],\n",
       "       [9.82887714e-01, 1.71122856e-02],\n",
       "       [9.82213687e-01, 1.77863126e-02],\n",
       "       [9.81513611e-01, 1.84863892e-02],\n",
       "       [9.80786518e-01, 1.92134820e-02],\n",
       "       [9.80031409e-01, 1.99685905e-02],\n",
       "       [9.79247252e-01, 2.07527476e-02],\n",
       "       [9.78432980e-01, 2.15670205e-02],\n",
       "       [9.77587488e-01, 2.24125116e-02],\n",
       "       [9.76709640e-01, 2.32903596e-02],\n",
       "       [9.75798260e-01, 2.42017396e-02],\n",
       "       [9.74852135e-01, 2.51478649e-02],\n",
       "       [9.73870013e-01, 2.61299868e-02]])"
      ]
     },
     "execution_count": 80,
     "metadata": {},
     "output_type": "execute_result"
    }
   ],
   "source": [
    "# Predict the class-probabilities assigned to the new data created\n",
    "\n",
    "y_proba = log_reg.predict_proba(X_new)\n",
    "y_proba"
   ]
  },
  {
   "cell_type": "code",
   "execution_count": 81,
   "metadata": {
    "colab": {
     "base_uri": "https://localhost:8080/",
     "height": 286
    },
    "id": "PWcouMK6jaxU",
    "outputId": "3faadcd7-debe-4fbd-868c-2e8ac661d0de",
    "state": "normal"
   },
   "outputs": [
    {
     "data": {
      "image/png": "[encoded data removed]",
      "text/plain": [
       "<Figure size 720x288 with 1 Axes>"
      ]
     },
     "metadata": {
      "needs_background": "light"
     },
     "output_type": "display_data"
    }
   ],
   "source": [
    "# Visualization\n",
    "\n",
    "plt.figure(figsize=(10, 4))\n",
    "plt.plot(X[y==0, 0], X[y==0, 1], \"bs\")\n",
    "plt.plot(X[y==1, 0], X[y==1, 1], \"g^\")\n",
    "\n",
    "zz = y_proba[:, 1].reshape(x0.shape)\n",
    "contour = plt.contour(x0, x1, zz, cmap=plt.cm.brg)\n",
    "\n",
    "left_right = np.array([2.9, 7])\n",
    "boundary = -(log_reg.coef_[0][0] * left_right + log_reg.intercept_[0]) / log_reg.coef_[0][1]\n",
    "\n",
    "plt.clabel(contour, inline=1, fontsize=12)\n",
    "plt.plot(left_right, boundary, \"k--\", linewidth=3)\n",
    "plt.text(3.5, 1.5, \"Not Iris virginica\", fontsize=14, color=\"b\", ha=\"center\")\n",
    "plt.text(6.5, 2.3, \"Iris virginica\", fontsize=14, color=\"g\", ha=\"center\")\n",
    "plt.xlabel(\"Petal length\", fontsize=14)\n",
    "plt.ylabel(\"Petal width\", fontsize=14)\n",
    "plt.axis([2.9, 7, 0.8, 2.7])\n",
    "plt.show()"
   ]
  },
  {
   "cell_type": "markdown",
   "metadata": {
    "id": "xQBrwlobj9GS",
    "state": "normal"
   },
   "source": [
    "# Working with Multiple Classes"
   ]
  },
  {
   "cell_type": "code",
   "execution_count": 82,
   "metadata": {
    "deletable": false,
    "id": "17",
    "starter_code": "# This time, we will still be working with two-dimensional features (same as previous)\n# but with multiple classes. So we will no longer have just 0 and 1 but 0, 1, ..., c classes\n\nX = \ny = ",
    "state": "graded"
   },
   "outputs": [],
   "source": [
    "# This time, we will still be working with two-dimensional features (same as previous)\n",
    "# but with multiple classes. So we will no longer have just 0 and 1 but 0, 1, ..., c classes\n",
    "\n",
    "X = np.array(iris['data'][:,2:4])\n",
    "y = iris['target']"
   ]
  },
  {
   "cell_type": "code",
   "execution_count": 83,
   "metadata": {
    "colab": {
     "base_uri": "https://localhost:8080/"
    },
    "deletable": false,
    "id": "18",
    "outputId": "2f7438f0-84bb-4430-ce8e-84e2288eb09c",
    "starter_code": "# Initialize a new multi-class solver\n# You should use the multinomial flag for the attribute multi_class\n# Then, fit the new data\n\nsoftmax_reg = \nsoftmax_reg.",
    "state": "graded"
   },
   "outputs": [
    {
     "data": {
      "text/plain": [
       "LogisticRegression(multi_class='multinomial')"
      ]
     },
     "execution_count": 83,
     "metadata": {},
     "output_type": "execute_result"
    }
   ],
   "source": [
    "# Initialize a new multi-class solver\n",
    "# You should use the multinomial flag for the attribute multi_class\n",
    "# Then, fit the new data\n",
    "\n",
    "softmax_reg = LogisticRegression(multi_class='multinomial')\n",
    "softmax_reg.fit(X,y)"
   ]
  },
  {
   "cell_type": "code",
   "execution_count": 84,
   "metadata": {
    "deletable": false,
    "id": "19",
    "starter_code": "# We will work with the same new data X_new that we created in the previous section\n# Predict the class probabilites and class predictions for X_new\n\ny_proba = \ny_predict = ",
    "state": "graded"
   },
   "outputs": [],
   "source": [
    "# We will work with the same new data X_new that we created in the previous section\n",
    "# Predict the class probabilites and class predictions for X_new\n",
    "\n",
    "y_proba = softmax_reg.predict_proba(X_new)\n",
    "y_predict = softmax_reg.predict(X_new)"
   ]
  },
  {
   "cell_type": "code",
   "execution_count": 85,
   "metadata": {
    "colab": {
     "base_uri": "https://localhost:8080/",
     "height": 303
    },
    "id": "Mb5F9Ejwkf9i",
    "outputId": "1f3a57fd-0dd1-4c29-f524-3017a813b521",
    "state": "normal"
   },
   "outputs": [
    {
     "data": {
      "text/plain": [
       "<matplotlib.legend.Legend at 0x7faea5febdf0>"
      ]
     },
     "execution_count": 85,
     "metadata": {},
     "output_type": "execute_result"
    },
    {
     "data": {
      "image/png": "[encoded data removed]",
      "text/plain": [
       "<Figure size 720x288 with 1 Axes>"
      ]
     },
     "metadata": {
      "needs_background": "light"
     },
     "output_type": "display_data"
    }
   ],
   "source": [
    "# Visualize them\n",
    "\n",
    "plt.figure(figsize=(10, 4))\n",
    "plt.plot(X[y==2, 0], X[y==2, 1], \"g^\", label=\"Iris virginica\")\n",
    "plt.plot(X[y==1, 0], X[y==1, 1], \"bs\", label=\"Iris versicolor\")\n",
    "plt.plot(X[y==0, 0], X[y==0, 1], \"yo\", label=\"Iris setosa\")\n",
    "\n",
    "plt.xlabel(\"Petal length\", fontsize=14)\n",
    "plt.ylabel(\"Petal width\", fontsize=14)\n",
    "plt.legend(loc=\"center left\", fontsize=14)"
   ]
  },
  {
   "cell_type": "code",
   "execution_count": 86,
   "metadata": {
    "colab": {
     "base_uri": "https://localhost:8080/",
     "height": 291
    },
    "id": "bkHdOwSFksch",
    "outputId": "cbc9d94b-4a8e-4d82-f4fb-64866c533202",
    "state": "normal"
   },
   "outputs": [
    {
     "data": {
      "image/png": "[encoded data removed]",
      "text/plain": [
       "<Figure size 720x288 with 1 Axes>"
      ]
     },
     "metadata": {
      "needs_background": "light"
     },
     "output_type": "display_data"
    }
   ],
   "source": [
    "# Visualize along with the decision boundaries\n",
    "\n",
    "zz1 = y_proba[:, 1].reshape(x0.shape)\n",
    "zz = y_predict.reshape(x0.shape)\n",
    "\n",
    "plt.figure(figsize=(10, 4))\n",
    "plt.plot(X[y==2, 0], X[y==2, 1], \"g^\", label=\"Iris virginica\")\n",
    "plt.plot(X[y==1, 0], X[y==1, 1], \"bs\", label=\"Iris versicolor\")\n",
    "plt.plot(X[y==0, 0], X[y==0, 1], \"yo\", label=\"Iris setosa\")\n",
    "\n",
    "from matplotlib.colors import ListedColormap\n",
    "custom_cmap = ListedColormap(['#fafab0','#9898ff','#a0faa0'])\n",
    "\n",
    "plt.contourf(x0, x1, zz, cmap=custom_cmap)\n",
    "contour = plt.contour(x0, x1, zz1, cmap=plt.cm.brg)\n",
    "plt.clabel(contour, inline=1, fontsize=12)\n",
    "plt.xlabel(\"Petal length\", fontsize=14)\n",
    "plt.ylabel(\"Petal width\", fontsize=14)\n",
    "plt.legend(loc=\"center left\", fontsize=14)\n",
    "plt.axis([0, 7, 0, 3.5])\n",
    "plt.show()"
   ]
  },
  {
   "cell_type": "code",
   "execution_count": 88,
   "metadata": {
    "colab": {
     "base_uri": "https://localhost:8080/"
    },
    "deletable": false,
    "id": "20",
    "outputId": "a75f88b7-a9ec-472f-8a2c-5ea1e747266d",
    "starter_code": "# You can predict class and probabilities for individual data points\n# Predict and print the class and class-probabilities for the point (5, 2)\n\nprint(softmax_reg.)\nprint(softmax_reg.)",
    "state": "graded"
   },
   "outputs": [
    {
     "name": "stdout",
     "output_type": "stream",
     "text": [
      "[[2.43559894e-04 2.14859516e-01 7.84896924e-01]]\n",
      "[2]\n"
     ]
    }
   ],
   "source": [
    "# You can predict class and probabilities for individual data points\n",
    "# Predict and print the class and class-probabilities for the point (5, 2)\n",
    "\n",
    "print(softmax_reg.predict_proba([[5,2]]))\n",
    "print(softmax_reg.predict([[5,2]]))"
   ]
  },
  {
   "cell_type": "code",
   "execution_count": null,
   "metadata": {},
   "outputs": [],
   "source": []
  }
 ],
 "metadata": {
  "kernelspec": {
   "display_name": "Python 3",
   "language": "python",
   "name": "python3"
  },
  "language_info": {
   "codemirror_mode": {
    "name": "ipython",
    "version": 3
   },
   "file_extension": ".py",
   "mimetype": "text/x-python",
   "name": "python",
   "nbconvert_exporter": "python",
   "pygments_lexer": "ipython3",
   "version": "3.8.5"
  },
  "mimir": {
   "data": {},
   "last_submission_id": "",
   "project_id": "d161be9a-3b35-4d3d-9d1d-a799bc34232f"
  },
  "varInspector": {
   "cols": {
    "lenName": 16,
    "lenType": 16,
    "lenVar": 40
   },
   "kernels_config": {
    "python": {
     "delete_cmd_postfix": "",
     "delete_cmd_prefix": "del ",
     "library": "var_list.py",
     "varRefreshCmd": "print(var_dic_list())"
    },
    "r": {
     "delete_cmd_postfix": ") ",
     "delete_cmd_prefix": "rm(",
     "library": "var_list.r",
     "varRefreshCmd": "cat(var_dic_list()) "
    }
   },
   "types_to_exclude": [
    "module",
    "function",
    "builtin_function_or_method",
    "instance",
    "_Feature"
   ],
   "window_display": false
  }
 },
 "nbformat": 4,
 "nbformat_minor": 2
}
