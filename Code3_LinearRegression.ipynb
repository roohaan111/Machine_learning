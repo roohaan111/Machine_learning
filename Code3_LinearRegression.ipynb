{
 "cells": [
  {
   "cell_type": "markdown",
   "metadata": {
    "state": "normal"
   },
   "source": [
    "# Linear Regression\n",
    "\n",
    "### Recap\n",
    "A linear model makes a prediction by computing a weighted sum of the input features and a constant (bias).    \n",
    "Basic linear regression model: $\\hat{y}$ = $\\theta$<sub>0</sub> + $\\theta$<sub>1</sub>x<sub>1</sub> + $\\theta$<sub>2</sub>x<sub>2</sub> + ... + $\\theta$<sub>n</sub>x<sub>n</sub>    \n",
    "* $\\hat{y}$ is the predicted value   \n",
    "* n is the number of features\n",
    "* x<sub>i</sub> is the i<sup>th</sup> feature value\n",
    "* $\\theta$<sub>j</sub> is the j<sup>th</sup> model parameter ($\\theta$<sub>0</sub> is the bias term; $\\theta$<sub>1</sub> .. $\\theta$<sub>n</sub> are the feature weights)   \n",
    "\n",
    "Using linear algebra we can work with this equation in its closed form solution (also called normal equation). Recall the closed form solution for linear regression from class: w* = (X<sup>T</sup>X)<sup>-1</sup> X<sup>T</sup>y\n",
    "\n",
    "We can think of the weights (w*) as the general parameter, $\\theta$: $\\hat{\\theta}$ = (X<sup>T</sup>X)<sup>-1</sup> X<sup>T</sup>y\n",
    "\n",
    "$\\hat{\\theta}$ is the values of $\\theta$ that minimizes the cost function    \n",
    "y is the target vector (i.e., labels or actual y values) \n"
   ]
  },
  {
   "cell_type": "markdown",
   "metadata": {
    "state": "normal"
   },
   "source": [
    "### Part 1: Closed Form Solution"
   ]
  },
  {
   "cell_type": "code",
   "execution_count": 6,
   "metadata": {
    "deletable": false,
    "editable": false,
    "id": "stoic_sol",
    "state": "read_only"
   },
   "outputs": [],
   "source": [
    "# Import packages\n",
    "import numpy as np\n",
    "import sklearn"
   ]
  },
  {
   "cell_type": "code",
   "execution_count": 7,
   "metadata": {
    "id": "high_ran",
    "state": "normal"
   },
   "outputs": [],
   "source": [
    "# For plots\n",
    "%matplotlib inline\n",
    "import matplotlib as mpl\n",
    "import matplotlib.pyplot as plt\n",
    "mpl.rc('axes', labelsize=14)\n",
    "mpl.rc('xtick', labelsize=12)\n",
    "mpl.rc('ytick', labelsize=12)"
   ]
  },
  {
   "cell_type": "code",
   "execution_count": 8,
   "metadata": {
    "deletable": false,
    "editable": false,
    "id": "sharp_hel",
    "state": "read_only"
   },
   "outputs": [],
   "source": [
    "# Create linear-like data to test first equation\n",
    "X = 2 * np.random.rand(100, 1)\n",
    "\n",
    "# Function for generating data: y = 4 + 3x_1 + Gaussian noise\n",
    "# So theta0 = 4 & theta1 = 3\n",
    "y = 4 + 3 * X + np.random.randn(100, 1)"
   ]
  },
  {
   "cell_type": "code",
   "execution_count": 9,
   "metadata": {
    "id": "green_odin",
    "state": "normal"
   },
   "outputs": [
    {
     "data": {
      "image/png": "[encoded data removed]",
      "text/plain": [
       "<Figure size 432x288 with 1 Axes>"
      ]
     },
     "metadata": {
      "needs_background": "light"
     },
     "output_type": "display_data"
    }
   ],
   "source": [
    "# Visualize dataset \n",
    "plt.plot(X, y, \"b.\")\n",
    "plt.xlabel(\"$x_1$\", fontsize=18)\n",
    "plt.ylabel(\"$y$\", rotation=0, fontsize=18)\n",
    "plt.axis([0, 2, 0, 15])\n",
    "plt.show()"
   ]
  },
  {
   "cell_type": "code",
   "execution_count": 10,
   "metadata": {
    "deletable": false,
    "editable": false,
    "id": "sly_hel",
    "state": "read_only"
   },
   "outputs": [],
   "source": [
    "# Add x0 = 1 to each instance\n",
    "X2 = np.c_[np.ones((100, 1)), X]"
   ]
  },
  {
   "cell_type": "code",
   "execution_count": 11,
   "metadata": {
    "deletable": false,
    "id": "big_oor",
    "starter_code": "# Use linalg inv & dot to calculate the closed form solution with X2 & y\ntheta_hat = ",
    "state": "graded"
   },
   "outputs": [],
   "source": [
    "# Use linalg inv & dot to calculate the closed form solution with X2 & y\n",
    "theta_hat = np.dot(np.linalg.inv(np.dot(X2.T,X2)),np.dot(X2.T,y))"
   ]
  },
  {
   "cell_type": "code",
   "execution_count": 14,
   "metadata": {
    "state": "normal"
   },
   "outputs": [
    {
     "data": {
      "text/plain": [
       "array([[4.1038505 ],\n",
       "       [2.98929561]])"
      ]
     },
     "execution_count": 14,
     "metadata": {},
     "output_type": "execute_result"
    }
   ],
   "source": [
    "# Print theta_hat\n",
    "theta_hat"
   ]
  },
  {
   "cell_type": "code",
   "execution_count": 15,
   "metadata": {
    "id": "gray_vali",
    "starter_code": "# TODO: Answer in the comments\n# theta_hat should print values around [4.3, 2.8]-ish\n# But theta0 = 4 & theta1 = 3\n# Why couldn't we recover the exact parameters of our original function?\n# Your answer: ",
    "state": "normal"
   },
   "outputs": [],
   "source": [
    "# TODO: Answer in the comments\n",
    "# theta_hat should print values around [4.3, 2.8]-ish\n",
    "# But theta0 = 4 & theta1 = 3\n",
    "# Why couldn't we recover the exact parameters of our original function?\n",
    "# Your answer: This because all these values are of type float and they suffer an issue due to precision loss in datatype float"
   ]
  },
  {
   "cell_type": "code",
   "execution_count": 16,
   "metadata": {
    "deletable": false,
    "id": "fit_loki",
    "starter_code": "# Task of the next 3 cells: Make a prediction using theta_hat\n# Create a new dataset (what dimensions should it be?)\nX_new = \n",
    "state": "graded"
   },
   "outputs": [],
   "source": [
    "# Task of the next 3 cells: Make a prediction using theta_hat\n",
    "# Create a new dataset (what dimensions should it be?)\n",
    "X_new = 2 * np.random.rand(100, 1)\n"
   ]
  },
  {
   "cell_type": "code",
   "execution_count": 17,
   "metadata": {
    "deletable": false,
    "id": "calm_magni",
    "starter_code": "# Add x0 = 1 to each instance\nX_new2 = ",
    "state": "graded"
   },
   "outputs": [],
   "source": [
    "# Add x0 = 1 to each instance\n",
    "X_new2 = np.c_[np.ones((100, 1)), X_new]"
   ]
  },
  {
   "cell_type": "code",
   "execution_count": 18,
   "metadata": {
    "deletable": false,
    "id": "red_sol",
    "starter_code": "# Use your model to make a prediction on your new dataset\ny_predict = ",
    "state": "graded"
   },
   "outputs": [],
   "source": [
    "# Use your model to make a prediction on your new dataset\n",
    "y_predict = np.matmul(X_new2,theta_hat)"
   ]
  },
  {
   "cell_type": "code",
   "execution_count": 19,
   "metadata": {
    "state": "normal"
   },
   "outputs": [
    {
     "data": {
      "text/plain": [
       "array([[ 7.28030633],\n",
       "       [ 9.77392406],\n",
       "       [ 9.49438235],\n",
       "       [ 7.26392149],\n",
       "       [ 4.25339583],\n",
       "       [ 6.3724153 ],\n",
       "       [ 9.04597726],\n",
       "       [ 6.45562415],\n",
       "       [ 4.86954408],\n",
       "       [ 6.34010071],\n",
       "       [ 7.24719193],\n",
       "       [ 9.27938348],\n",
       "       [ 4.3715743 ],\n",
       "       [ 7.99599036],\n",
       "       [ 5.11583821],\n",
       "       [ 9.77064343],\n",
       "       [ 4.60285706],\n",
       "       [ 8.90419823],\n",
       "       [ 4.90743871],\n",
       "       [ 9.83798568],\n",
       "       [ 6.18479831],\n",
       "       [ 6.8366993 ],\n",
       "       [ 4.32407962],\n",
       "       [ 9.199053  ],\n",
       "       [ 8.64707279],\n",
       "       [ 7.93634268],\n",
       "       [ 8.08863127],\n",
       "       [ 7.26171163],\n",
       "       [ 7.06490113],\n",
       "       [ 8.53535419],\n",
       "       [ 9.61708   ],\n",
       "       [ 7.17665798],\n",
       "       [ 9.80157739],\n",
       "       [ 5.9481752 ],\n",
       "       [ 7.52461793],\n",
       "       [ 6.69452027],\n",
       "       [ 5.78541444],\n",
       "       [ 7.20204166],\n",
       "       [ 5.95226359],\n",
       "       [ 9.300234  ],\n",
       "       [ 6.7291719 ],\n",
       "       [ 6.68565295],\n",
       "       [ 5.50362298],\n",
       "       [10.00376599],\n",
       "       [ 5.55312483],\n",
       "       [ 8.38904403],\n",
       "       [ 7.13990821],\n",
       "       [ 5.53091552],\n",
       "       [ 7.90978319],\n",
       "       [ 5.30430803],\n",
       "       [ 9.41503603],\n",
       "       [ 9.16207043],\n",
       "       [ 9.92395547],\n",
       "       [ 6.21681782],\n",
       "       [ 9.9745176 ],\n",
       "       [ 4.35189049],\n",
       "       [ 8.08965653],\n",
       "       [ 6.20318451],\n",
       "       [ 6.03094912],\n",
       "       [ 4.99495718],\n",
       "       [ 6.5273663 ],\n",
       "       [ 7.79165686],\n",
       "       [ 4.43563374],\n",
       "       [ 4.30740132],\n",
       "       [ 4.39181009],\n",
       "       [ 9.25269817],\n",
       "       [ 7.35983831],\n",
       "       [ 5.43165012],\n",
       "       [ 8.35000452],\n",
       "       [ 5.34460938],\n",
       "       [ 9.74903845],\n",
       "       [ 5.41491015],\n",
       "       [ 5.13326018],\n",
       "       [ 6.89416215],\n",
       "       [10.00032564],\n",
       "       [ 5.59739121],\n",
       "       [ 6.80172039],\n",
       "       [ 7.18388811],\n",
       "       [ 4.11467101],\n",
       "       [ 9.46276243],\n",
       "       [ 9.14191672],\n",
       "       [ 4.19675008],\n",
       "       [ 5.06844006],\n",
       "       [ 6.48911403],\n",
       "       [ 8.37546821],\n",
       "       [ 6.41449348],\n",
       "       [ 7.63856491],\n",
       "       [ 5.90870911],\n",
       "       [ 8.74564696],\n",
       "       [ 8.4562304 ],\n",
       "       [ 8.87991689],\n",
       "       [ 5.16413507],\n",
       "       [ 5.95692212],\n",
       "       [ 9.96027869],\n",
       "       [ 8.36493537],\n",
       "       [ 7.28755278],\n",
       "       [ 7.37088368],\n",
       "       [ 4.92621423],\n",
       "       [ 6.7184799 ],\n",
       "       [ 6.52892866]])"
      ]
     },
     "execution_count": 19,
     "metadata": {},
     "output_type": "execute_result"
    }
   ],
   "source": [
    "# Print y_predict\n",
    "y_predict"
   ]
  },
  {
   "cell_type": "code",
   "execution_count": 20,
   "metadata": {
    "id": "big_thor",
    "starter_code": "# Plot your new model's predictions\n# You should see a red line falling mostly in the middle of the blue data points\nplt.plot( , , \"r-\")\n\n# Plots the original data\nplt.plot(X, y, \"b.\")\nplt.axis([0, 2, 0, 15])\nplt.show( )",
    "state": "normal"
   },
   "outputs": [
    {
     "data": {
      "image/png": "[encoded data removed]",
      "text/plain": [
       "<Figure size 432x288 with 1 Axes>"
      ]
     },
     "metadata": {
      "needs_background": "light"
     },
     "output_type": "display_data"
    }
   ],
   "source": [
    "# Plot your new model's predictions\n",
    "# You should see a red line falling mostly in the middle of the blue data points\n",
    "plt.plot(X_new, y_predict, \"r-\")\n",
    "\n",
    "# Plots the original data\n",
    "plt.plot(X, y, \"b.\")\n",
    "plt.axis([0, 2, 0, 15])\n",
    "plt.show( )"
   ]
  },
  {
   "cell_type": "markdown",
   "metadata": {
    "state": "normal"
   },
   "source": [
    "### Part 2: Using Scikit-Learn\n",
    "Scikit-Learn's LinearRegression class is based on scipy.linalg.lstsq() (Least Squares). "
   ]
  },
  {
   "cell_type": "code",
   "execution_count": 21,
   "metadata": {
    "deletable": false,
    "id": "red_ran",
    "starter_code": "# Import the LinearRegression class\nfrom sklearn.",
    "state": "graded"
   },
   "outputs": [],
   "source": [
    "# Import the LinearRegression class\n",
    "from sklearn.linear_model import LinearRegression"
   ]
  },
  {
   "cell_type": "code",
   "execution_count": 22,
   "metadata": {
    "deletable": false,
    "id": "stoic_loki",
    "starter_code": "# Create a LinearRegression instance\nlin_reg = ",
    "state": "graded"
   },
   "outputs": [],
   "source": [
    "# Create a LinearRegression instance\n",
    "lin_reg = LinearRegression()"
   ]
  },
  {
   "cell_type": "code",
   "execution_count": 23,
   "metadata": {
    "deletable": false,
    "id": "sly_boi",
    "starter_code": "# Fit your model\n# NOTE: there is a bug in Windows for this method\n# If you get this error: ValueError: illegal value in 4th argument of internal None\n# Go to the previous cell and create your class instance with the argument: normalize = True\n",
    "state": "graded"
   },
   "outputs": [
    {
     "data": {
      "text/plain": [
       "LinearRegression()"
      ]
     },
     "execution_count": 23,
     "metadata": {},
     "output_type": "execute_result"
    }
   ],
   "source": [
    "# Fit your model\n",
    "# NOTE: there is a bug in Windows for this method\n",
    "# If you get this error: ValueError: illegal value in 4th argument of internal None\n",
    "# Go to the previous cell and create your class instance with the argument: normalize = True\n",
    "lin_reg.fit(X,y)"
   ]
  },
  {
   "cell_type": "code",
   "execution_count": 24,
   "metadata": {
    "deletable": false,
    "id": "red_odin",
    "scrolled": true,
    "starter_code": "# Print the intercept of your model\n",
    "state": "graded"
   },
   "outputs": [
    {
     "data": {
      "text/plain": [
       "array([4.1038505])"
      ]
     },
     "execution_count": 24,
     "metadata": {},
     "output_type": "execute_result"
    }
   ],
   "source": [
    "# Print the intercept of your model\n",
    "lin_reg.intercept_"
   ]
  },
  {
   "cell_type": "code",
   "execution_count": 25,
   "metadata": {
    "deletable": false,
    "id": "big_ran",
    "starter_code": "# Print the estimated coefficients of your model\n",
    "state": "graded"
   },
   "outputs": [
    {
     "data": {
      "text/plain": [
       "array([[2.98929561]])"
      ]
     },
     "execution_count": 25,
     "metadata": {},
     "output_type": "execute_result"
    }
   ],
   "source": [
    "# Print the estimated coefficients of your model\n",
    "lin_reg.coef_"
   ]
  },
  {
   "cell_type": "code",
   "execution_count": 28,
   "metadata": {
    "deletable": false,
    "id": "red_saga",
    "starter_code": "# Use your model to make a prediction on X_new\n# Don't need to answer: are your results similar to y_predict?\n",
    "state": "graded"
   },
   "outputs": [
    {
     "data": {
      "text/plain": [
       "array([[ 7.28030633],\n",
       "       [ 9.77392406],\n",
       "       [ 9.49438235],\n",
       "       [ 7.26392149],\n",
       "       [ 4.25339583],\n",
       "       [ 6.3724153 ],\n",
       "       [ 9.04597726],\n",
       "       [ 6.45562415],\n",
       "       [ 4.86954408],\n",
       "       [ 6.34010071],\n",
       "       [ 7.24719193],\n",
       "       [ 9.27938348],\n",
       "       [ 4.3715743 ],\n",
       "       [ 7.99599036],\n",
       "       [ 5.11583821],\n",
       "       [ 9.77064343],\n",
       "       [ 4.60285706],\n",
       "       [ 8.90419823],\n",
       "       [ 4.90743871],\n",
       "       [ 9.83798568],\n",
       "       [ 6.18479831],\n",
       "       [ 6.8366993 ],\n",
       "       [ 4.32407962],\n",
       "       [ 9.199053  ],\n",
       "       [ 8.64707279],\n",
       "       [ 7.93634268],\n",
       "       [ 8.08863127],\n",
       "       [ 7.26171163],\n",
       "       [ 7.06490113],\n",
       "       [ 8.53535419],\n",
       "       [ 9.61708   ],\n",
       "       [ 7.17665798],\n",
       "       [ 9.80157739],\n",
       "       [ 5.9481752 ],\n",
       "       [ 7.52461793],\n",
       "       [ 6.69452027],\n",
       "       [ 5.78541444],\n",
       "       [ 7.20204166],\n",
       "       [ 5.95226359],\n",
       "       [ 9.300234  ],\n",
       "       [ 6.7291719 ],\n",
       "       [ 6.68565295],\n",
       "       [ 5.50362298],\n",
       "       [10.00376599],\n",
       "       [ 5.55312483],\n",
       "       [ 8.38904403],\n",
       "       [ 7.13990821],\n",
       "       [ 5.53091552],\n",
       "       [ 7.90978319],\n",
       "       [ 5.30430803],\n",
       "       [ 9.41503603],\n",
       "       [ 9.16207043],\n",
       "       [ 9.92395547],\n",
       "       [ 6.21681782],\n",
       "       [ 9.9745176 ],\n",
       "       [ 4.35189049],\n",
       "       [ 8.08965653],\n",
       "       [ 6.20318451],\n",
       "       [ 6.03094912],\n",
       "       [ 4.99495718],\n",
       "       [ 6.5273663 ],\n",
       "       [ 7.79165686],\n",
       "       [ 4.43563374],\n",
       "       [ 4.30740132],\n",
       "       [ 4.39181009],\n",
       "       [ 9.25269817],\n",
       "       [ 7.35983831],\n",
       "       [ 5.43165012],\n",
       "       [ 8.35000452],\n",
       "       [ 5.34460938],\n",
       "       [ 9.74903845],\n",
       "       [ 5.41491015],\n",
       "       [ 5.13326018],\n",
       "       [ 6.89416215],\n",
       "       [10.00032564],\n",
       "       [ 5.59739121],\n",
       "       [ 6.80172039],\n",
       "       [ 7.18388811],\n",
       "       [ 4.11467101],\n",
       "       [ 9.46276243],\n",
       "       [ 9.14191672],\n",
       "       [ 4.19675008],\n",
       "       [ 5.06844006],\n",
       "       [ 6.48911403],\n",
       "       [ 8.37546821],\n",
       "       [ 6.41449348],\n",
       "       [ 7.63856491],\n",
       "       [ 5.90870911],\n",
       "       [ 8.74564696],\n",
       "       [ 8.4562304 ],\n",
       "       [ 8.87991689],\n",
       "       [ 5.16413507],\n",
       "       [ 5.95692212],\n",
       "       [ 9.96027869],\n",
       "       [ 8.36493537],\n",
       "       [ 7.28755278],\n",
       "       [ 7.37088368],\n",
       "       [ 4.92621423],\n",
       "       [ 6.7184799 ],\n",
       "       [ 6.52892866]])"
      ]
     },
     "execution_count": 28,
     "metadata": {},
     "output_type": "execute_result"
    }
   ],
   "source": [
    "# Use your model to make a prediction on X_new\n",
    "# Don't need to answer: are your results similar to y_predict?\n",
    "\n",
    "y_predict = lin_reg.predict(X_new)\n",
    "y_predict"
   ]
  },
  {
   "cell_type": "markdown",
   "metadata": {
    "state": "normal"
   },
   "source": [
    "### Part3: Stochastic Gradient Descent"
   ]
  },
  {
   "cell_type": "code",
   "execution_count": 29,
   "metadata": {
    "deletable": false,
    "id": "aged_sol",
    "starter_code": "# Import the SGDRegressor class\nfrom sklearn.",
    "state": "graded"
   },
   "outputs": [],
   "source": [
    "# Import the SGDRegressor class\n",
    "from sklearn.linear_model import SGDRegressor"
   ]
  },
  {
   "cell_type": "code",
   "execution_count": 30,
   "metadata": {
    "deletable": false,
    "id": "eager_mimir",
    "starter_code": "# Create an SGDRegressor with\n# Maximum number of iterations = 1000\n# Training stopping criterion of 1e-3 \n# Ridge regularization term\n# Initial learning rate of 0.001\nsgd_reg = ",
    "state": "graded"
   },
   "outputs": [],
   "source": [
    "# Create an SGDRegressor with\n",
    "# Maximum number of iterations = 1000\n",
    "# Training stopping criterion of 1e-3 \n",
    "# Ridge regularization term\n",
    "# Initial learning rate of 0.001\n",
    "sgd_reg = SGDRegressor(max_iter=1000, tol=1e-3,penalty='l2',eta0=0.1)"
   ]
  },
  {
   "cell_type": "code",
   "execution_count": 31,
   "metadata": {
    "deletable": false,
    "id": "gray_odin",
    "starter_code": "# Fit the model \n",
    "state": "graded"
   },
   "outputs": [
    {
     "data": {
      "text/plain": [
       "SGDRegressor(eta0=0.1)"
      ]
     },
     "execution_count": 31,
     "metadata": {},
     "output_type": "execute_result"
    }
   ],
   "source": [
    "# Fit the model \n",
    "sgd_reg.fit(X,y.reshape(100,))"
   ]
  },
  {
   "cell_type": "code",
   "execution_count": 32,
   "metadata": {
    "deletable": false,
    "id": "able_vali",
    "starter_code": "# Print the intercept\n",
    "state": "graded"
   },
   "outputs": [
    {
     "data": {
      "text/plain": [
       "array([4.12093977])"
      ]
     },
     "execution_count": 32,
     "metadata": {},
     "output_type": "execute_result"
    }
   ],
   "source": [
    "# Print the intercept\n",
    "sgd_reg.intercept_"
   ]
  },
  {
   "cell_type": "code",
   "execution_count": 33,
   "metadata": {
    "deletable": false,
    "id": "spicy_nott",
    "starter_code": "# Print the estimated coefficients\n",
    "state": "graded"
   },
   "outputs": [
    {
     "data": {
      "text/plain": [
       "array([3.0869555])"
      ]
     },
     "execution_count": 33,
     "metadata": {},
     "output_type": "execute_result"
    }
   ],
   "source": [
    "# Print the estimated coefficients\n",
    "sgd_reg.coef_"
   ]
  },
  {
   "cell_type": "markdown",
   "metadata": {
    "state": "normal"
   },
   "source": [
    "The intercept and coefficient should be close to the values of $\\hat{\\theta}$ found by the closed form solution in Part 1. If they're not, you can (optionally) change the regularization and learning rate until you find values that work better. "
   ]
  }
 ],
 "metadata": {
  "kernelspec": {
   "display_name": "Python 3",
   "language": "python",
   "name": "python3"
  },
  "language_info": {
   "codemirror_mode": {
    "name": "ipython",
    "version": 3
   },
   "file_extension": ".py",
   "mimetype": "text/x-python",
   "name": "python",
   "nbconvert_exporter": "python",
   "pygments_lexer": "ipython3",
   "version": "3.8.5"
  },
  "mimir": {
   "data": {},
   "last_submission_id": "",
   "project_id": "dfd2074c-02bf-4aac-8aa5-af16de004f02"
  },
  "varInspector": {
   "cols": {
    "lenName": 16,
    "lenType": 16,
    "lenVar": 40
   },
   "kernels_config": {
    "python": {
     "delete_cmd_postfix": "",
     "delete_cmd_prefix": "del ",
     "library": "var_list.py",
     "varRefreshCmd": "print(var_dic_list())"
    },
    "r": {
     "delete_cmd_postfix": ") ",
     "delete_cmd_prefix": "rm(",
     "library": "var_list.r",
     "varRefreshCmd": "cat(var_dic_list()) "
    }
   },
   "types_to_exclude": [
    "module",
    "function",
    "builtin_function_or_method",
    "instance",
    "_Feature"
   ],
   "window_display": false
  }
 },
 "nbformat": 4,
 "nbformat_minor": 2
}
