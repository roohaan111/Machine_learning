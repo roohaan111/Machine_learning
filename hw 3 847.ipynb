{
 "cells": [
  {
   "cell_type": "code",
   "execution_count": 68,
   "metadata": {},
   "outputs": [],
   "source": [
    "import numpy as np\n",
    "\n",
    "def ridge_regression(X, y, lam): \n",
    "    I = np.identity(X.shape[1])\n",
    "    weight = np.dot(np.linalg.inv(np.dot(X.T, X) + lam * I), np.dot(X.T, y))\n",
    "    return weight\n"
   ]
  },
  {
   "cell_type": "code",
   "execution_count": 69,
   "metadata": {},
   "outputs": [],
   "source": [
    "from scipy.io import loadmat\n",
    "\n",
    "data = loadmat('diabetes.mat')\n",
    "\n",
    "X_train = data['x_train']\n",
    "y_train = data['y_train']\n",
    "\n",
    "X_test = data['x_test']\n",
    "y_test = data['y_test']\n"
   ]
  },
  {
   "cell_type": "code",
   "execution_count": 96,
   "metadata": {},
   "outputs": [
    {
     "name": "stdout",
     "output_type": "stream",
     "text": [
      "λ = 1e-05 | Training Error: 19695.354823964473 | Testing Error: 76911.07208671166\n",
      "λ = 0.0001 | Training Error: 20060.11613873794 | Testing Error: 57531.76027004421\n",
      "λ = 0.001 | Training Error: 20384.664250733887 | Testing Error: 49060.59804050336\n",
      "λ = 0.01 | Training Error: 20918.86518165216 | Testing Error: 44405.139402623994\n",
      "λ = 0.1 | Training Error: 22075.715668745594 | Testing Error: 36994.6967266464\n",
      "λ = 1 | Training Error: 24730.739328369953 | Testing Error: 30517.773939737766\n",
      "λ = 10 | Training Error: 27165.12612819299 | Testing Error: 30057.30349989966\n"
     ]
    }
   ],
   "source": [
    "def mse(actual, pred):\n",
    "    return np.sum((actual - pred) ** 2) / len(actual)\n",
    "\n",
    "errors_train = []\n",
    "errors_test = []\n",
    "lambdas_lst = [1e-5, 1e-4, 1e-3, 1e-2, 1e-1, 1, 10]\n",
    "\n",
    "for i in lambdas_lst:\n",
    "    \n",
    "    weight = ridge_regression(X_train, y_train, i)\n",
    "    \n",
    "    pred_train = np.dot(X_train, weight)\n",
    "    pred_test = np.dot(X_test, weight)\n",
    "\n",
    "    mse_train = mse(y_train, pred_train)\n",
    "    mse_test = mse(y_test, pred_test)\n",
    "\n",
    "    errors_train.append(mse_train)\n",
    "    errors_test.append(mse_test)\n",
    "\n",
    "    print(\"λ = \"+ str(i) + \" | Training Error: \" + str(mse_train) + \" | Testing Error: \" + str(mse_test))\n"
   ]
  },
  {
   "cell_type": "code",
   "execution_count": 97,
   "metadata": {},
   "outputs": [
    {
     "name": "stdout",
     "output_type": "stream",
     "text": [
      "10 , Average Validation Error: 27952.20072243912\n",
      "Best λ: 10\n"
     ]
    }
   ],
   "source": [
    "from sklearn.model_selection import KFold\n",
    "\n",
    "kf = KFold(n_splits = 5, shuffle = True, random_state = 42)\n",
    "\n",
    "best = float('inf')\n",
    "best_mse = float('inf')\n",
    "\n",
    "for i in lambdas_lst:\n",
    "    \n",
    "    mse_lst = []\n",
    "    \n",
    "    for train_i, val_i in kf.split(X_train):\n",
    "        \n",
    "        X_train_fold, X_val_fold = X_train[train_i], X_train[val_i]\n",
    "        y_train_fold, y_val_fold = y_train[train_i], y_train[val_i]\n",
    "\n",
    "        w = ridge_regression(X_train_fold, y_train_fold, i)\n",
    "        y_pred = np.dot(X_val_fold, w)\n",
    "\n",
    "        mse_lst.append(compute_mse(y_val_fold, y_pred))\n",
    "    \n",
    "    avg = np.mean(mse_lst)\n",
    "    \n",
    "    if avg < best_mse:\n",
    "        \n",
    "        best_mse = avg\n",
    "        best = i\n",
    "\n",
    "print(i, \", Average Validation Error:\", avg)\n",
    "print(\"Best λ:\", best)\n"
   ]
  },
  {
   "cell_type": "code",
   "execution_count": 98,
   "metadata": {},
   "outputs": [
    {
     "data": {
      "text/plain": [
       "<matplotlib.legend.Legend at 0x7f9c18c0aca0>"
      ]
     },
     "execution_count": 98,
     "metadata": {},
     "output_type": "execute_result"
    },
    {
     "data": {
      "image/png": "[encoded data removed]",
      "text/plain": [
       "<Figure size 720x504 with 1 Axes>"
      ]
     },
     "metadata": {
      "needs_background": "light"
     },
     "output_type": "display_data"
    }
   ],
   "source": [
    "import matplotlib.pyplot as plt\n",
    "\n",
    "plt.figure(figsize=(10, 7))\n",
    "plt.plot(lambdas_lst, errors_test, label = 'Testing', color = 'red')\n",
    "plt.plot(lambdas_lst, errors_train, label = 'Training', color = 'blue')\n",
    "plt.axvline(best, color = 'orange', label = 'Best λ')\n",
    "plt.xscale('log')\n",
    "plt.ylabel('Mean Squared Error')\n",
    "plt.xlabel('λ')\n",
    "plt.title('Training and Testing Error for Different λ Values')\n",
    "plt.legend()\n",
    "\n"
   ]
  },
  {
   "cell_type": "code",
   "execution_count": null,
   "metadata": {},
   "outputs": [],
   "source": []
  },
  {
   "cell_type": "code",
   "execution_count": null,
   "metadata": {},
   "outputs": [],
   "source": []
  },
  {
   "cell_type": "code",
   "execution_count": null,
   "metadata": {},
   "outputs": [],
   "source": []
  },
  {
   "cell_type": "code",
   "execution_count": null,
   "metadata": {},
   "outputs": [],
   "source": []
  },
  {
   "cell_type": "code",
   "execution_count": null,
   "metadata": {},
   "outputs": [],
   "source": []
  },
  {
   "cell_type": "code",
   "execution_count": null,
   "metadata": {},
   "outputs": [],
   "source": []
  },
  {
   "cell_type": "code",
   "execution_count": null,
   "metadata": {},
   "outputs": [],
   "source": []
  },
  {
   "cell_type": "code",
   "execution_count": null,
   "metadata": {},
   "outputs": [],
   "source": []
  },
  {
   "cell_type": "code",
   "execution_count": null,
   "metadata": {},
   "outputs": [],
   "source": []
  }
 ],
 "metadata": {
  "kernelspec": {
   "display_name": "Python 3",
   "language": "python",
   "name": "python3"
  },
  "language_info": {
   "codemirror_mode": {
    "name": "ipython",
    "version": 3
   },
   "file_extension": ".py",
   "mimetype": "text/x-python",
   "name": "python",
   "nbconvert_exporter": "python",
   "pygments_lexer": "ipython3",
   "version": "3.8.5"
  }
 },
 "nbformat": 4,
 "nbformat_minor": 4
}
