{
 "cells": [
  {
   "cell_type": "markdown",
   "metadata": {
    "state": "normal"
   },
   "source": [
    "# Non-linear Transformation"
   ]
  },
  {
   "cell_type": "markdown",
   "metadata": {
    "state": "normal"
   },
   "source": [
    "### Basic Setup"
   ]
  },
  {
   "cell_type": "code",
   "execution_count": 97,
   "metadata": {
    "deletable": false,
    "editable": false,
    "id": "01",
    "state": "read_only"
   },
   "outputs": [],
   "source": [
    "# Import packages\n",
    "import numpy as np\n",
    "import sklearn"
   ]
  },
  {
   "cell_type": "code",
   "execution_count": 98,
   "metadata": {
    "deletable": false,
    "editable": false,
    "id": "02",
    "state": "read_only"
   },
   "outputs": [],
   "source": [
    "# For plots\n",
    "%matplotlib inline\n",
    "import matplotlib as mpl\n",
    "import matplotlib.pyplot as plt\n",
    "mpl.rc('axes', labelsize=14)\n",
    "mpl.rc('xtick', labelsize=12)\n",
    "mpl.rc('ytick', labelsize=12)"
   ]
  },
  {
   "cell_type": "code",
   "execution_count": 99,
   "metadata": {
    "deletable": false,
    "editable": false,
    "id": "03",
    "state": "read_only"
   },
   "outputs": [],
   "source": [
    "# to make this notebook's output stable across runs\n",
    "np.random.seed(42)"
   ]
  },
  {
   "cell_type": "code",
   "execution_count": 110,
   "metadata": {
    "deletable": false,
    "id": "04",
    "starter_code": "# Generate 100 datapoints (X, y)\n# Generate 100 random numbers X between -3 and +3\n# Generate y as 0.5x^2 + x + 2 + eps\n# where eps is a random number between 0 and 1\n\nm = 100\nX = \ny = ",
    "state": "graded"
   },
   "outputs": [
    {
     "name": "stdout",
     "output_type": "stream",
     "text": [
      "[ 1 -2  1  1  0 -2  2  0  0  3 -2 -2  3 -1  1 -3 -3 -3 -3 -3  1 -1 -2  1\n",
      "  1  2 -2 -3 -2 -3 -3  2  0 -2 -3  0  3 -1 -1  0 -2  0 -1  3  1  0  2  3\n",
      "  1  2  1 -3 -3  0  3 -1 -2  3 -1  0  0 -1  0  0  1  2 -1 -3  2 -1  3  3\n",
      " -2  0  0  2  0  0  0 -3  1 -1 -3  3  2  2  3 -2 -1  2  3  0  1  0  0 -1\n",
      "  0  2  2  0]\n",
      "100\n",
      "[ 3.97062917  2.82162037  4.19671305  3.6554883   2.60326345  2.29539997\n",
      "  6.9187135   2.38120285  2.64089058 10.2560354   2.88418543  2.96758001\n",
      "  9.72245849  1.55567176  4.0852311   4.41317298  3.74024464  4.40262139\n",
      "  3.54983765  3.51902615  4.24716668  2.22077677  2.774887    3.80919307\n",
      "  3.81728258  6.74674453  2.23760806  4.28745064  2.79016942  4.39323562\n",
      "  4.28663925  6.64004666  2.41595369  2.97301943  4.2017081   2.73359647\n",
      "  9.71463498  1.97584061  2.14250593  2.85922868  2.75455213  2.19302983\n",
      "  2.40614596 10.08994454  4.32485916  2.35991665  6.21688337  9.66982237\n",
      "  4.07040275  6.85942426  3.58230637  3.62706944  4.35407839  2.66062911\n",
      " 10.11710384  1.74016758  2.23567822 10.19523083  1.65962373  2.13665706\n",
      "  2.70151747  1.91801764  2.21019571  2.53346089  3.99506547  6.4792698\n",
      "  2.20292996  4.25996884  6.14725796  2.20802493  9.6641003  10.3902756\n",
      "  2.52563968  2.94090442  2.34841946  6.75145457  2.2032963   2.47664179\n",
      "  2.3349317   4.12390054  4.41848757  1.79430408  4.47438384  9.5584614\n",
      "  6.60406959  6.65272121 10.23510627  2.68087597  2.38436264  6.4318124\n",
      " 10.21832724  2.64805182  3.83558712  2.28494448  2.61327946  2.19823071\n",
      "  2.46814088  6.29064844  6.85869345  2.25295126]\n",
      "100\n"
     ]
    }
   ],
   "source": [
    "# Generate 100 datapoints (X, y)\n",
    "# Generate 100 random numbers X between -3 and +3\n",
    "# Generate y as 0.5x^2 + x + 2 + eps\n",
    "# where eps is a random number between 0 and 1\n",
    "import random\n",
    "from random import randint\n",
    "\n",
    "\n",
    "m = 100\n",
    "X = []\n",
    "y = []\n",
    "\n",
    "for _ in range(100):\n",
    "    x = random.randint(-3,3)\n",
    "    yy = 0.5 * (x * x) + x + 2 + random.uniform(0,1)\n",
    "    X.append(x)\n",
    "    y.append(yy)\n",
    "\n",
    "X = np.array(X)\n",
    "print(X)\n",
    "print(len(X))\n",
    "y = np.array(y)\n",
    "print(y)\n",
    "print(len(y))"
   ]
  },
  {
   "cell_type": "code",
   "execution_count": 111,
   "metadata": {
    "state": "normal"
   },
   "outputs": [
    {
     "data": {
      "image/png": "[encoded data removed]",
      "text/plain": [
       "<Figure size 432x288 with 1 Axes>"
      ]
     },
     "metadata": {
      "needs_background": "light"
     },
     "output_type": "display_data"
    }
   ],
   "source": [
    "# Let's visualize the data generated\n",
    "# It should look like a parabola\n",
    "\n",
    "plt.plot(X, y, \"b.\")\n",
    "plt.xlabel(\"$x_1$\", fontsize=18)\n",
    "plt.ylabel(\"$y$\", rotation=0, fontsize=18)\n",
    "plt.axis([-3, 3, 0, 10])\n",
    "plt.show()"
   ]
  },
  {
   "cell_type": "markdown",
   "metadata": {
    "state": "normal"
   },
   "source": [
    "# Polynomial Regression"
   ]
  },
  {
   "cell_type": "code",
   "execution_count": 112,
   "metadata": {
    "deletable": false,
    "id": "able_saga",
    "starter_code": "# Import PolynomialFeatures package from sklearn\n\n",
    "state": "graded"
   },
   "outputs": [],
   "source": [
    "# Import PolynomialFeatures package from sklearn\n",
    "from sklearn.preprocessing import PolynomialFeatures\n"
   ]
  },
  {
   "cell_type": "code",
   "execution_count": 113,
   "metadata": {
    "deletable": false,
    "id": "big_nott",
    "starter_code": "# Initialize Polynomical features transformation object with degree 2\n\npoly_features = ",
    "state": "graded"
   },
   "outputs": [],
   "source": [
    "# Initialize Polynomical features transformation object with degree 2\n",
    "\n",
    "poly_features = PolynomialFeatures(degree=2)"
   ]
  },
  {
   "cell_type": "code",
   "execution_count": 114,
   "metadata": {
    "deletable": false,
    "id": "high_mani",
    "starter_code": "# Transform the generated points X to degree 2 polynomial\n\nX_poly = ",
    "state": "graded"
   },
   "outputs": [],
   "source": [
    "# Transform the generated points X to degree 2 polynomial\n",
    "\n",
    "X_poly = poly_features.fit_transform(X.reshape(-1, 1))"
   ]
  },
  {
   "cell_type": "code",
   "execution_count": 115,
   "metadata": {
    "deletable": false,
    "id": "stoic_vali",
    "starter_code": "# Lets see the value of X[0] and its transformed X_poly[0]",
    "state": "graded"
   },
   "outputs": [
    {
     "name": "stdout",
     "output_type": "stream",
     "text": [
      "X[0]:  1\n",
      "X_poly[0]:  [1. 1. 1.]\n"
     ]
    }
   ],
   "source": [
    "# Lets see the value of X[0] and its transformed X_poly[0]\n",
    "print(\"X[0]: \", X[0])\n",
    "print(\"X_poly[0]: \", X_poly[0])"
   ]
  },
  {
   "cell_type": "code",
   "execution_count": 116,
   "metadata": {
    "deletable": false,
    "id": "spicy_ullr",
    "starter_code": "# Import LinearRegression from sklearn and initialize its object\n\nfrom sklearn.\nlin_reg = ",
    "state": "graded"
   },
   "outputs": [],
   "source": [
    "# Import LinearRegression from sklearn and initialize its object\n",
    "\n",
    "from sklearn.linear_model import LinearRegression\n",
    "lin_reg = LinearRegression()"
   ]
  },
  {
   "cell_type": "code",
   "execution_count": 117,
   "metadata": {
    "deletable": false,
    "id": "red_sif",
    "starter_code": "# Fit the transformed polynomial features X_poly and values y\n\nlin_reg.",
    "state": "graded"
   },
   "outputs": [
    {
     "data": {
      "text/plain": [
       "LinearRegression()"
      ]
     },
     "execution_count": 117,
     "metadata": {},
     "output_type": "execute_result"
    }
   ],
   "source": [
    "# Fit the transformed polynomial features X_poly and values y\n",
    "\n",
    "lin_reg.fit(X_poly, y)"
   ]
  },
  {
   "cell_type": "code",
   "execution_count": 118,
   "metadata": {
    "deletable": false,
    "id": "blue_mimir",
    "starter_code": "# Lets see the intercept and coefficients of the learned model\n\n",
    "state": "graded"
   },
   "outputs": [
    {
     "name": "stdout",
     "output_type": "stream",
     "text": [
      "Intercept: 2.516554685677449\n",
      "Coefficients: [0.         0.98032986 0.50746045]\n"
     ]
    }
   ],
   "source": [
    "# Lets see the intercept and coefficients of the learned model\n",
    "print(\"Intercept:\", lin_reg.intercept_)\n",
    "print(\"Coefficients:\", lin_reg.coef_)"
   ]
  },
  {
   "cell_type": "code",
   "execution_count": 119,
   "metadata": {
    "deletable": false,
    "id": "spicy_odin",
    "starter_code": "# Generate 100 new datapoints X_new between -3 and +3\n# Transform into degree 2 polynomial X_new_poly\n# Predict the y_new values using the fitted model\n\nX_new=\nX_new_poly = \ny_new = ",
    "state": "graded"
   },
   "outputs": [],
   "source": [
    "# Generate 100 new datapoints X_new between -3 and +3\n",
    "# Transform into degree 2 polynomial X_new_poly\n",
    "# Predict the y_new values using the fitted model\n",
    "\n",
    "m = 100\n",
    "\n",
    "X_new = []\n",
    "for i in range(100):\n",
    "    x = random.randint(-3,3)\n",
    "    X_new.append(x)\n",
    "    \n",
    "X_new = np.array(X_new)\n",
    "\n",
    "X_new_poly = poly_features.fit_transform(X_new.reshape(-1, 1))\n",
    "\n",
    "y_new = lin_reg.predict(X_new_poly)"
   ]
  },
  {
   "cell_type": "code",
   "execution_count": 120,
   "metadata": {
    "state": "normal"
   },
   "outputs": [
    {
     "name": "stderr",
     "output_type": "stream",
     "text": [
      "No handles with labels found to put in legend.\n"
     ]
    },
    {
     "data": {
      "image/png": "[encoded data removed]",
      "text/plain": [
       "<Figure size 432x288 with 1 Axes>"
      ]
     },
     "metadata": {
      "needs_background": "light"
     },
     "output_type": "display_data"
    }
   ],
   "source": [
    "# Let's visualize the generated data and the learned function\n",
    "# You should see a red curve running through the middle of the parabola data \n",
    "\n",
    "plt.plot(X, y, \"b.\") # plots data\n",
    "plt.plot(X_new, y_new, \"r-\", linewidth=2) # plots function\n",
    "# plt.plot(X_new, y_new, \"r-\", linewidth=2, label=\"Predictions\") # plots function\n",
    "plt.xlabel(\"$x_1$\", fontsize=18)\n",
    "plt.ylabel(\"$y$\", rotation=0, fontsize=18)\n",
    "plt.legend(loc=\"upper left\", fontsize=14)\n",
    "plt.axis([-3, 3, 0, 10])\n",
    "plt.show()"
   ]
  },
  {
   "cell_type": "code",
   "execution_count": null,
   "metadata": {
    "state": "normal"
   },
   "outputs": [],
   "source": []
  },
  {
   "cell_type": "code",
   "execution_count": null,
   "metadata": {},
   "outputs": [],
   "source": []
  }
 ],
 "metadata": {
  "kernelspec": {
   "display_name": "Python 3",
   "language": "python",
   "name": "python3"
  },
  "language_info": {
   "codemirror_mode": {
    "name": "ipython",
    "version": 3
   },
   "file_extension": ".py",
   "mimetype": "text/x-python",
   "name": "python",
   "nbconvert_exporter": "python",
   "pygments_lexer": "ipython3",
   "version": "3.8.5"
  },
  "mimir": {
   "data": {},
   "last_submission_id": "",
   "project_id": "ecd700a6-6a96-4590-b496-06db8c29ad05"
  },
  "varInspector": {
   "cols": {
    "lenName": 16,
    "lenType": 16,
    "lenVar": 40
   },
   "kernels_config": {
    "python": {
     "delete_cmd_postfix": "",
     "delete_cmd_prefix": "del ",
     "library": "var_list.py",
     "varRefreshCmd": "print(var_dic_list())"
    },
    "r": {
     "delete_cmd_postfix": ") ",
     "delete_cmd_prefix": "rm(",
     "library": "var_list.r",
     "varRefreshCmd": "cat(var_dic_list()) "
    }
   },
   "types_to_exclude": [
    "module",
    "function",
    "builtin_function_or_method",
    "instance",
    "_Feature"
   ],
   "window_display": false
  }
 },
 "nbformat": 4,
 "nbformat_minor": 2
}
