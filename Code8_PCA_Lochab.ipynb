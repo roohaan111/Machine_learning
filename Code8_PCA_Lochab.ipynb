{
 "cells": [
  {
   "cell_type": "markdown",
   "metadata": {
    "state": "normal"
   },
   "source": [
    "# Dimensionality Reduction: Principal Component Analysis (PCA)\n",
    "\n",
    "## Curse of Dimensionality\n",
    "Many ML tasks use thousands or millions of features for each training instance. This can make training slow and it can be much harder to find a good solution. This problem is called the *curse of dimensionality*. Luckily, for most real-world problems, it's possible to reduce the number of features.\n",
    "\n",
    "Reducing dimensionality does lose some information (like compressing an image can degrade quality), so it could make your system perform worse. It also makes pipelines more complex and harder to maintain. But it could filter out some noise or unneccesarry details, possibly resulting in higher performance. Generally, that doesn't happen and the main benefit is that it speeds up training. It's also great for data visualization. \n",
    "\n",
    "## Projection & Manifold Learning\n",
    "There are 2 main approaches to reducing dimensionality: projection and Manifold Learning.\n",
    "\n",
    "### Manifold Learning\n",
    " We don't cover manifold learning in this class but very briefly: a 2D manifold is a 2D shape that can be bent and twisted in a higher-dimensional space (think of a swiss roll). Many dimensionality reduction algorithms work by: (1) modeling the *manifold* that the training instances are on, and (2) using the *manifold assumption* that most real-world high-dimensional datasets lie close to a much lower-dimensional manifold, which implies (3) that the task will be simpler if expressed in the lower-dimensional space of the manifold. The problem is the assumption in (3) doesn't always hold. If you imagine a swiss roll and we unroll it, maybe we will get a perfectly split dataset with an easy decision boundary, but usually we don't.  \n",
    "\n",
    "### Projection\n",
    "The main idea behind projection is that in most real-world problems, training instances are not spread out uniformly across all dimensions. Many features are nearly constant, while others are highly correlated. Thus, all training instances actually lie within (or close to) a much lower-dimensional subspace of the higher-dimensional space. \n",
    "\n",
    "### Projection Visualization\n",
    "We'll create 2 plots. The first shows a 3D dataset whose instances lie close to a 2D subspace. The second plot shows the 2D dataset created by projecting every training instance perpendicularly onto the subspace. This reduces the dataset's dimensionality from 3D to 2D. Also note that the axes correspond to new features $z_1$ and $z_2$ (the coordinates of the projections on the plane).  \n"
   ]
  },
  {
   "cell_type": "code",
   "execution_count": 1,
   "metadata": {
    "state": "normal"
   },
   "outputs": [],
   "source": [
    "# Build a 3D dataset\n",
    "import numpy as np\n",
    "\n",
    "np.random.seed(4)\n",
    "m = 60\n",
    "w1, w2 = 0.1, 0.3\n",
    "noise = 0.1\n",
    "\n",
    "angles = np.random.rand(m) * 3 * np.pi / 2 - 0.5\n",
    "X = np.empty((m, 3))\n",
    "X[:, 0] = np.cos(angles) + np.sin(angles)/2 + noise * np.random.randn(m) / 2\n",
    "X[:, 1] = np.sin(angles) * 0.7 + noise * np.random.randn(m) / 2\n",
    "X[:, 2] = X[:, 0] * w1 + X[:, 1] * w2 + noise * np.random.randn(m)"
   ]
  },
  {
   "cell_type": "code",
   "execution_count": 2,
   "metadata": {
    "deletable": false,
    "id": "aged_var",
    "starter_code": "# PCA in Scikit-Learn is easy to use, with mean-centering built in\nfrom sklearn.decomposition import PCA\n\n# Create a PCA model with 2 components\npca = \n",
    "state": "graded"
   },
   "outputs": [],
   "source": [
    "# PCA in Scikit-Learn is easy to use, with mean-centering built in\n",
    "from sklearn.decomposition import PCA\n",
    "\n",
    "# Create a PCA model with 2 components\n",
    "pca = PCA(n_components = 2)\n"
   ]
  },
  {
   "cell_type": "code",
   "execution_count": 7,
   "metadata": {
    "deletable": false,
    "id": "eager_magni",
    "starter_code": "# Use the correct fit method to both fit the model with X AND apply dimensionality reduction on X\n# This is the projection of X to 2D space\nX2D = ",
    "state": "graded"
   },
   "outputs": [],
   "source": [
    "# Use the correct fit method to both fit the model with X AND apply dimensionality reduction on X\n",
    "# This is the projection of X to 2D space\n",
    "X2D = pca.fit_transform(X)"
   ]
  },
  {
   "cell_type": "code",
   "execution_count": 8,
   "metadata": {
    "deletable": false,
    "id": "big_vali",
    "starter_code": "# Print the principal components of the PCA object\npca.",
    "state": "graded"
   },
   "outputs": [
    {
     "data": {
      "text/plain": [
       "array([6.77645005, 2.82403671])"
      ]
     },
     "execution_count": 8,
     "metadata": {},
     "output_type": "execute_result"
    }
   ],
   "source": [
    "# Print the principal components of the PCA object\n",
    "pca.singular_values_"
   ]
  },
  {
   "cell_type": "code",
   "execution_count": 9,
   "metadata": {
    "deletable": false,
    "id": "high_ullr",
    "starter_code": "# Print the explained variance ratio\n# You should see that dimension 1 explains 84.2% of the variance\n#     and dimension 2 explains 14.6%\npca.",
    "state": "graded"
   },
   "outputs": [
    {
     "data": {
      "text/plain": [
       "array([0.84248607, 0.14631839])"
      ]
     },
     "execution_count": 9,
     "metadata": {},
     "output_type": "execute_result"
    }
   ],
   "source": [
    "# Print the explained variance ratio\n",
    "# You should see that dimension 1 explains 84.2% of the variance\n",
    "#     and dimension 2 explains 14.6%\n",
    "pca.explained_variance_ratio_"
   ]
  },
  {
   "cell_type": "code",
   "execution_count": 10,
   "metadata": {
    "deletable": false,
    "id": "able_saga",
    "starter_code": "# Recover the 3D points that were projected onto the plane (PCA 2D subspace)\n# This transforms the data back to its original space\nX3D_inv = ",
    "state": "graded"
   },
   "outputs": [],
   "source": [
    "# Recover the 3D points that were projected onto the plane (PCA 2D subspace)\n",
    "# This transforms the data back to its original space\n",
    "X3D_inv = pca.inverse_transform(X2D)"
   ]
  },
  {
   "cell_type": "code",
   "execution_count": 11,
   "metadata": {
    "state": "normal"
   },
   "outputs": [],
   "source": [
    "# Utility classes to draw 3D arrows (taken from Stack Overflow)\n",
    "from matplotlib.patches import FancyArrowPatch\n",
    "from mpl_toolkits.mplot3d import proj3d\n",
    "\n",
    "class Arrow3D(FancyArrowPatch):\n",
    "    def __init__(self, xs, ys, zs, *args, **kwargs):\n",
    "        FancyArrowPatch.__init__(self, (0,0), (0,0), *args, **kwargs)\n",
    "        self._verts3d = xs, ys, zs\n",
    "\n",
    "    def draw(self, renderer):\n",
    "        xs3d, ys3d, zs3d = self._verts3d\n",
    "        xs, ys, zs = proj3d.proj_transform(xs3d, ys3d, zs3d, renderer.M)\n",
    "        self.set_positions((xs[0],ys[0]),(xs[1],ys[1]))\n",
    "        FancyArrowPatch.draw(self, renderer)"
   ]
  },
  {
   "cell_type": "code",
   "execution_count": 12,
   "metadata": {
    "state": "normal"
   },
   "outputs": [],
   "source": [
    "# Plane as a function of x & y \n",
    "axes = [-1.8, 1.8, -1.3, 1.3, -1.0, 1.0]\n",
    "\n",
    "x1s = np.linspace(axes[0], axes[1], 10)\n",
    "x2s = np.linspace(axes[2], axes[3], 10)\n",
    "x1, x2 = np.meshgrid(x1s, x2s)\n",
    "\n",
    "C = pca.components_\n",
    "R = C.T.dot(C)\n",
    "z = (R[0, 2] * x1 + R[1, 2] * x2) / (1 - R[2, 2])"
   ]
  },
  {
   "cell_type": "code",
   "execution_count": 13,
   "metadata": {
    "state": "normal"
   },
   "outputs": [
    {
     "name": "stderr",
     "output_type": "stream",
     "text": [
      "<ipython-input-13-730a84588d0a>:27: UserWarning: color is redundantly defined by the 'color' keyword argument and the fmt string \"k-\" (-> color='k'). The keyword argument will take precedence.\n",
      "  ax.plot([X[i][0], X3D_inv[i][0]], [X[i][1], X3D_inv[i][1]], [X[i][2], X3D_inv[i][2]], \"k-\", color=\"#505050\")\n",
      "<ipython-input-11-13d5da6fca24>:12: MatplotlibDeprecationWarning: \n",
      "The M attribute was deprecated in Matplotlib 3.4 and will be removed two minor releases later. Use self.axes.M instead.\n",
      "  xs, ys, zs = proj3d.proj_transform(xs3d, ys3d, zs3d, renderer.M)\n"
     ]
    },
    {
     "data": {
      "image/png": "[encoded data removed]",
      "text/plain": [
       "<Figure size 432x273.6 with 1 Axes>"
      ]
     },
     "metadata": {
      "needs_background": "light"
     },
     "output_type": "display_data"
    }
   ],
   "source": [
    "# Plot the 3D dataset, the plane and the projections onto that plane\n",
    "from mpl_toolkits.mplot3d import Axes3D\n",
    "import matplotlib as mpl\n",
    "import matplotlib.pyplot as plt\n",
    "mpl.rc('axes', labelsize=14)\n",
    "mpl.rc('xtick', labelsize=12)\n",
    "mpl.rc('ytick', labelsize=12)\n",
    "\n",
    "fig = plt.figure(figsize=(6, 3.8))\n",
    "ax = fig.add_subplot(111, projection='3d')\n",
    "\n",
    "X3D_above = X[X[:, 2] > X3D_inv[:, 2]]\n",
    "X3D_below = X[X[:, 2] <= X3D_inv[:, 2]]\n",
    "\n",
    "ax.plot(X3D_below[:, 0], X3D_below[:, 1], X3D_below[:, 2], \"bo\", alpha=0.5)\n",
    "\n",
    "ax.plot_surface(x1, x2, z, alpha=0.2, color=\"k\")\n",
    "np.linalg.norm(C, axis=0)\n",
    "ax.add_artist(Arrow3D([0, C[0, 0]],[0, C[0, 1]],[0, C[0, 2]], mutation_scale=15, lw=1, arrowstyle=\"-|>\", color=\"k\"))\n",
    "ax.add_artist(Arrow3D([0, C[1, 0]],[0, C[1, 1]],[0, C[1, 2]], mutation_scale=15, lw=1, arrowstyle=\"-|>\", color=\"k\"))\n",
    "ax.plot([0], [0], [0], \"k.\")\n",
    "\n",
    "for i in range(m):\n",
    "    if X[i, 2] > X3D_inv[i, 2]:\n",
    "        ax.plot([X[i][0], X3D_inv[i][0]], [X[i][1], X3D_inv[i][1]], [X[i][2], X3D_inv[i][2]], \"k-\")\n",
    "    else:\n",
    "        ax.plot([X[i][0], X3D_inv[i][0]], [X[i][1], X3D_inv[i][1]], [X[i][2], X3D_inv[i][2]], \"k-\", color=\"#505050\")\n",
    "    \n",
    "ax.plot(X3D_inv[:, 0], X3D_inv[:, 1], X3D_inv[:, 2], \"k+\")\n",
    "ax.plot(X3D_inv[:, 0], X3D_inv[:, 1], X3D_inv[:, 2], \"k.\")\n",
    "ax.plot(X3D_above[:, 0], X3D_above[:, 1], X3D_above[:, 2], \"bo\")\n",
    "ax.set_xlabel(\"$x_1$\", fontsize=18, labelpad=10)\n",
    "ax.set_ylabel(\"$x_2$\", fontsize=18, labelpad=10)\n",
    "ax.set_zlabel(\"$x_3$\", fontsize=18, labelpad=10)\n",
    "ax.set_xlim(axes[0:2])\n",
    "ax.set_ylim(axes[2:4])\n",
    "ax.set_zlim(axes[4:6])\n",
    "\n",
    "# Note: Matplotlib 3.0.0 has a bug and does not display 3D graphs properly\n",
    "plt.show()"
   ]
  },
  {
   "cell_type": "code",
   "execution_count": 14,
   "metadata": {
    "state": "normal"
   },
   "outputs": [
    {
     "data": {
      "image/png": "[encoded data removed]",
      "text/plain": [
       "<Figure size 432x288 with 1 Axes>"
      ]
     },
     "metadata": {
      "needs_background": "light"
     },
     "output_type": "display_data"
    }
   ],
   "source": [
    "# View the 2D projection (after PCA was used)\n",
    "fig = plt.figure()\n",
    "ax = fig.add_subplot(111, aspect='equal')\n",
    "\n",
    "ax.plot(X2D[:, 0], X2D[:, 1], \"k+\")\n",
    "ax.plot(X2D[:, 0], X2D[:, 1], \"k.\")\n",
    "ax.plot([0], [0], \"ko\")\n",
    "ax.arrow(0, 0, 0, 1, head_width=0.05, length_includes_head=True, head_length=0.1, fc='k', ec='k')\n",
    "ax.arrow(0, 0, 1, 0, head_width=0.05, length_includes_head=True, head_length=0.1, fc='k', ec='k')\n",
    "ax.set_xlabel(\"$z_1$\", fontsize=18)\n",
    "ax.set_ylabel(\"$z_2$\", fontsize=18, rotation=0)\n",
    "ax.axis([-1.5, 1.3, -1.2, 1.2])\n",
    "ax.grid(True)\n"
   ]
  },
  {
   "cell_type": "markdown",
   "metadata": {
    "state": "normal"
   },
   "source": [
    "## Principal Component Analysis (PCA)\n",
    "PCA is the most popular dimensionality reduction algorithm. First it identifies the hyperplane that lies closest to the data. Then it projects the data onto that hyperplane. \n",
    "\n",
    "### Preserving the Variance\n",
    "Before you can project the training dataset onto a lower-dimensional hyperplane, you first have to choose the correct hyperplane. \n",
    "\n",
    "The figures created below show a simple 2D dataset (left) with 3 different axes (one-dimensional hyperplanes), represented by the solid line, dashed line, and dotted line. The figure on the right is the projection of the dataset onto each of these axes. The projection onto the solid line preserves the maximum variance, the projection onto the dashed line axis has an intermediate amount of variance, and the projection onto the dotted line axis preserves very little variance. \n",
    "\n",
    "We would select the axis that preserves the maximum amount of variance, because it will most likely lose less information than the other projections. This axis will also minimize the mean squared distance between the original dataset and its projection onto that axis. \n",
    "\n",
    "### Principal Components \n",
    "PCA identifies the axis that accounts for the largest amount of variance in the training dataset (for example, the solid line). Then it finds a second axis, orthogonal to the first axis, that accounts for the largest amount of remaining variance. If we had more dimensions in our dataset, PCA would then find a 3rd axis, orthogonal to both the first and second; this can be repeated for as many axes as the number of dimensions in the dataset. \n",
    "\n",
    "You can find the PCs of the dataset by using a matrix factorization technique called *Singular Value Decomposition (SVD)*. SVD decomposes the training matrix $X$ into a dot product of 3 matrices: $U \\cdot \\Sigma \\cdot V^T$. $V^T$ contains the PCs that we need. \n",
    "\n",
    "PCA assumes that the dataset is centered around the origin. Scikit-Learn's PCA automatically centers the data for you. If you use SVD to implement PCA yourself, you have to center the data first. "
   ]
  },
  {
   "cell_type": "code",
   "execution_count": 15,
   "metadata": {
    "scrolled": true,
    "state": "normal"
   },
   "outputs": [
    {
     "data": {
      "image/png": "[encoded data removed]",
      "text/plain": [
       "<Figure size 576x288 with 4 Axes>"
      ]
     },
     "metadata": {
      "needs_background": "light"
     },
     "output_type": "display_data"
    }
   ],
   "source": [
    "# Visualize the variance, axes, and projections\n",
    "angle = np.pi / 5\n",
    "stretch = 5\n",
    "m = 200\n",
    "\n",
    "np.random.seed(3)\n",
    "X = np.random.randn(m, 2) / 10\n",
    "X = X.dot(np.array([[stretch, 0],[0, 1]])) # stretch\n",
    "X = X.dot([[np.cos(angle), np.sin(angle)], [-np.sin(angle), np.cos(angle)]]) # rotate\n",
    "\n",
    "u1 = np.array([np.cos(angle), np.sin(angle)])\n",
    "u2 = np.array([np.cos(angle - 2 * np.pi/6), np.sin(angle - 2 * np.pi/6)])\n",
    "u3 = np.array([np.cos(angle - np.pi/2), np.sin(angle - np.pi/2)])\n",
    "\n",
    "X_proj1 = X.dot(u1.reshape(-1, 1))\n",
    "X_proj2 = X.dot(u2.reshape(-1, 1))\n",
    "X_proj3 = X.dot(u3.reshape(-1, 1))\n",
    "\n",
    "plt.figure(figsize=(8,4))\n",
    "plt.subplot2grid((3,2), (0, 0), rowspan=3)\n",
    "plt.plot([-1.4, 1.4], [-1.4*u1[1]/u1[0], 1.4*u1[1]/u1[0]], \"k-\", linewidth=1)\n",
    "plt.plot([-1.4, 1.4], [-1.4*u2[1]/u2[0], 1.4*u2[1]/u2[0]], \"k--\", linewidth=1)\n",
    "plt.plot([-1.4, 1.4], [-1.4*u3[1]/u3[0], 1.4*u3[1]/u3[0]], \"k:\", linewidth=2)\n",
    "plt.plot(X[:, 0], X[:, 1], \"bo\", alpha=0.5)\n",
    "plt.axis([-1.4, 1.4, -1.4, 1.4])\n",
    "plt.arrow(0, 0, u1[0], u1[1], head_width=0.1, linewidth=5, length_includes_head=True, head_length=0.1, fc='k', ec='k')\n",
    "plt.arrow(0, 0, u3[0], u3[1], head_width=0.1, linewidth=5, length_includes_head=True, head_length=0.1, fc='k', ec='k')\n",
    "plt.text(u1[0] + 0.1, u1[1] - 0.05, r\"$\\mathbf{c_1}$\", fontsize=22)\n",
    "plt.text(u3[0] + 0.1, u3[1], r\"$\\mathbf{c_2}$\", fontsize=22)\n",
    "plt.xlabel(\"$x_1$\", fontsize=18)\n",
    "plt.ylabel(\"$x_2$\", fontsize=18, rotation=0)\n",
    "plt.grid(True)\n",
    "\n",
    "plt.subplot2grid((3,2), (0, 1))\n",
    "plt.plot([-2, 2], [0, 0], \"k-\", linewidth=1)\n",
    "plt.plot(X_proj1[:, 0], np.zeros(m), \"bo\", alpha=0.3)\n",
    "plt.gca().get_yaxis().set_ticks([])\n",
    "plt.gca().get_xaxis().set_ticklabels([])\n",
    "plt.axis([-2, 2, -1, 1])\n",
    "plt.grid(True)\n",
    "\n",
    "plt.subplot2grid((3,2), (1, 1))\n",
    "plt.plot([-2, 2], [0, 0], \"k--\", linewidth=1)\n",
    "plt.plot(X_proj2[:, 0], np.zeros(m), \"bo\", alpha=0.3)\n",
    "plt.gca().get_yaxis().set_ticks([])\n",
    "plt.gca().get_xaxis().set_ticklabels([])\n",
    "plt.axis([-2, 2, -1, 1])\n",
    "plt.grid(True)\n",
    "\n",
    "plt.subplot2grid((3,2), (2, 1))\n",
    "plt.plot([-2, 2], [0, 0], \"k:\", linewidth=2)\n",
    "plt.plot(X_proj3[:, 0], np.zeros(m), \"bo\", alpha=0.3)\n",
    "plt.gca().get_yaxis().set_ticks([])\n",
    "plt.axis([-2, 2, -1, 1])\n",
    "plt.xlabel(\"$z_1$\", fontsize=18)\n",
    "plt.grid(True)\n",
    "\n",
    "plt.show()"
   ]
  },
  {
   "cell_type": "markdown",
   "metadata": {
    "state": "normal"
   },
   "source": [
    "### Choosing the Right Number of Dimensions\n",
    "It's common to choose the number of dimensions that will add up to a large portion of the variance, usually 95%. Unless you're reducing  dimensionality for data visualization, in which case you should use 2 or 3 dimensions. "
   ]
  },
  {
   "cell_type": "code",
   "execution_count": 16,
   "metadata": {
    "deletable": false,
    "id": "apt_saga",
    "starter_code": "# Create a default PCA model\npca = ",
    "state": "graded"
   },
   "outputs": [],
   "source": [
    "# Create a default PCA model\n",
    "pca = PCA()"
   ]
  },
  {
   "cell_type": "code",
   "execution_count": 17,
   "metadata": {
    "deletable": false,
    "id": "sharp_sol",
    "starter_code": "# Use pca to fit the X dataset\npca.\n",
    "state": "graded"
   },
   "outputs": [
    {
     "data": {
      "text/plain": [
       "PCA()"
      ]
     },
     "execution_count": 17,
     "metadata": {},
     "output_type": "execute_result"
    }
   ],
   "source": [
    "# Use pca to fit the X dataset\n",
    "pca.fit(X)\n"
   ]
  },
  {
   "cell_type": "code",
   "execution_count": 18,
   "metadata": {
    "deletable": false,
    "id": "tiny_ullr",
    "starter_code": "# Use numpy's cumsum method to total up the explained variance ratio of the pca model\ntotal_var = np.cumsum(pca.   )\nprint(total_var)",
    "state": "graded"
   },
   "outputs": [
    {
     "name": "stdout",
     "output_type": "stream",
     "text": [
      "[0.95369864 1.        ]\n"
     ]
    }
   ],
   "source": [
    "# Use numpy's cumsum method to total up the explained variance ratio of the pca model\n",
    "total_var = np.cumsum(pca.explained_variance_ratio_  )\n",
    "print(total_var)"
   ]
  },
  {
   "cell_type": "code",
   "execution_count": 22,
   "metadata": {
    "deletable": false,
    "id": "spicy_sif",
    "starter_code": "# Find d: the number of dimensions required to preserve 95% of the training data's variance\nd = np.argmax(total_var >=   ) + 1\nprint(d)",
    "state": "graded"
   },
   "outputs": [
    {
     "name": "stdout",
     "output_type": "stream",
     "text": [
      "1\n"
     ]
    }
   ],
   "source": [
    "# Find d: the number of dimensions required to preserve 95% of the training data's variance\n",
    "d = np.argmax(total_var >=   0.95) + 1\n",
    "print(d)"
   ]
  },
  {
   "cell_type": "code",
   "execution_count": 23,
   "metadata": {
    "deletable": false,
    "id": "tiny_saga",
    "starter_code": "# You could create a new PCA model with n_components = d\n# But with Scikit-Learn you can just initialize the PCA model \n#     by specifying n_components to be a float between 0.0 and 1.0\n#     indicating the variance ratio you want to keep\npca = \n",
    "state": "graded"
   },
   "outputs": [],
   "source": [
    "# You could create a new PCA model with n_components = d\n",
    "# But with Scikit-Learn you can just initialize the PCA model \n",
    "#     by specifying n_components to be a float between 0.0 and 1.0\n",
    "#     indicating the variance ratio you want to keep\n",
    "pca = PCA(n_components = d)\n"
   ]
  },
  {
   "cell_type": "code",
   "execution_count": 25,
   "metadata": {
    "deletable": false,
    "id": "sly_tyr",
    "starter_code": "# Fit and reduce dimensions of X\nX_reduced = \n# print(X_reduced)",
    "state": "graded"
   },
   "outputs": [
    {
     "name": "stdout",
     "output_type": "stream",
     "text": [
      "[[-8.96088137e-01]\n",
      " [-4.53603363e-02]\n",
      " [ 1.38359166e-01]\n",
      " [ 4.16315780e-02]\n",
      " [ 2.18583744e-02]\n",
      " [ 6.53868464e-01]\n",
      " [-4.45218566e-01]\n",
      " [-2.52100754e-02]\n",
      " [ 2.74828447e-01]\n",
      " [-4.89804685e-01]\n",
      " [ 5.91772943e-01]\n",
      " [-7.44460369e-01]\n",
      " [ 5.12230114e-01]\n",
      " [-3.13266691e-01]\n",
      " [ 3.83765553e-01]\n",
      " [-3.77664930e-01]\n",
      " [ 6.22192127e-01]\n",
      " [ 4.05843018e-01]\n",
      " [ 4.62900292e-01]\n",
      " [-5.62638042e-01]\n",
      " [ 8.09046208e-01]\n",
      " [ 1.80719622e-01]\n",
      " [ 2.98447518e-01]\n",
      " [ 4.35729072e-01]\n",
      " [ 1.12339132e+00]\n",
      " [-5.09329756e-01]\n",
      " [-5.57383436e-01]\n",
      " [-7.42300017e-01]\n",
      " [-4.19950471e-01]\n",
      " [ 3.04360690e-01]\n",
      " [-5.27822154e-01]\n",
      " [ 9.38906116e-02]\n",
      " [ 3.35918853e-01]\n",
      " [-7.52638095e-02]\n",
      " [-2.24065944e-01]\n",
      " [ 5.09402619e-01]\n",
      " [ 7.24520511e-02]\n",
      " [-2.44318685e-01]\n",
      " [-3.23087658e-01]\n",
      " [ 6.93739438e-01]\n",
      " [ 6.83626747e-01]\n",
      " [-3.06255432e-01]\n",
      " [-7.60306544e-02]\n",
      " [ 1.28713987e-02]\n",
      " [ 1.45854192e+00]\n",
      " [ 2.95510472e-01]\n",
      " [ 4.78043426e-01]\n",
      " [ 2.86468892e-01]\n",
      " [-3.38708502e-01]\n",
      " [ 1.44466110e-01]\n",
      " [-4.35369951e-01]\n",
      " [ 3.76189231e-02]\n",
      " [-6.17964798e-01]\n",
      " [ 2.65720436e-01]\n",
      " [-3.24171713e-01]\n",
      " [ 2.57613005e-01]\n",
      " [ 2.05472262e-01]\n",
      " [ 3.42825581e-01]\n",
      " [-4.27742475e-01]\n",
      " [ 4.13138475e-01]\n",
      " [ 3.37079378e-01]\n",
      " [ 3.79209530e-01]\n",
      " [-1.14507596e-01]\n",
      " [ 3.70774307e-02]\n",
      " [ 3.24636337e-01]\n",
      " [ 7.89476581e-02]\n",
      " [-4.07272297e-01]\n",
      " [-2.79337894e-01]\n",
      " [ 2.25715170e-01]\n",
      " [ 2.65055409e-01]\n",
      " [ 4.51907852e-01]\n",
      " [-6.76603521e-02]\n",
      " [ 3.55338456e-01]\n",
      " [-2.13673993e-01]\n",
      " [-4.19919072e-01]\n",
      " [ 4.27746050e-01]\n",
      " [ 6.09137236e-01]\n",
      " [-3.16955986e-03]\n",
      " [ 3.61657526e-01]\n",
      " [ 6.71393848e-02]\n",
      " [ 3.96663191e-01]\n",
      " [ 1.32276395e-01]\n",
      " [-1.33866070e+00]\n",
      " [ 7.39140839e-01]\n",
      " [ 5.33339338e-01]\n",
      " [-4.31004868e-01]\n",
      " [ 2.15484246e-01]\n",
      " [ 6.70354778e-02]\n",
      " [ 6.16925576e-01]\n",
      " [-5.21745049e-01]\n",
      " [-8.67032328e-01]\n",
      " [ 2.54714484e-01]\n",
      " [ 1.01594493e+00]\n",
      " [ 5.08443285e-01]\n",
      " [-3.23713333e-01]\n",
      " [ 2.96394651e-01]\n",
      " [ 6.22912229e-02]\n",
      " [-2.22242499e-01]\n",
      " [-9.97596213e-01]\n",
      " [ 4.76677524e-02]\n",
      " [ 1.59385630e-01]\n",
      " [ 7.23983658e-03]\n",
      " [-3.88330571e-01]\n",
      " [-5.74324601e-01]\n",
      " [-1.94317864e-01]\n",
      " [ 2.88462890e-01]\n",
      " [ 2.24621449e-01]\n",
      " [ 1.72893464e-01]\n",
      " [-5.45686322e-01]\n",
      " [-1.97062110e-01]\n",
      " [ 2.37006918e-01]\n",
      " [ 3.20293812e-01]\n",
      " [ 7.91454892e-02]\n",
      " [ 1.34116467e+00]\n",
      " [-2.81345950e-01]\n",
      " [-5.49606098e-01]\n",
      " [ 1.35299898e-01]\n",
      " [-1.40721018e+00]\n",
      " [-1.49842206e-01]\n",
      " [-6.50670013e-02]\n",
      " [ 9.28880501e-02]\n",
      " [-5.35894030e-01]\n",
      " [-5.56858738e-01]\n",
      " [-3.02147552e-01]\n",
      " [-5.36183631e-01]\n",
      " [-8.55623983e-01]\n",
      " [ 2.83998192e-01]\n",
      " [ 4.55220905e-01]\n",
      " [ 3.19652268e-01]\n",
      " [-1.35803712e+00]\n",
      " [ 2.31421394e-02]\n",
      " [ 1.15723020e-01]\n",
      " [-1.79851419e-01]\n",
      " [ 7.07110703e-01]\n",
      " [-5.97227204e-02]\n",
      " [-5.31804111e-01]\n",
      " [-8.11573484e-01]\n",
      " [-3.48886570e-01]\n",
      " [-4.49281442e-01]\n",
      " [-3.70829130e-02]\n",
      " [-1.42251513e-01]\n",
      " [-3.07506144e-01]\n",
      " [-9.25307571e-01]\n",
      " [ 1.03097886e-01]\n",
      " [-1.47464910e-01]\n",
      " [-9.46748876e-01]\n",
      " [ 3.08673618e-01]\n",
      " [ 5.58671697e-01]\n",
      " [-1.79969356e-01]\n",
      " [-7.54431603e-01]\n",
      " [ 5.15860621e-01]\n",
      " [ 3.02119496e-01]\n",
      " [ 4.26806702e-01]\n",
      " [ 2.28667680e-02]\n",
      " [ 3.24088211e-01]\n",
      " [-1.22209299e-01]\n",
      " [ 4.26702773e-01]\n",
      " [ 8.19816829e-02]\n",
      " [-1.41063811e-01]\n",
      " [ 1.64457703e-02]\n",
      " [-1.01134103e+00]\n",
      " [-4.33573355e-01]\n",
      " [ 6.65856885e-01]\n",
      " [ 1.61808196e-01]\n",
      " [-4.82157648e-02]\n",
      " [-4.66117068e-01]\n",
      " [-1.49009196e-01]\n",
      " [ 2.88429562e-01]\n",
      " [ 1.15854187e-01]\n",
      " [-2.08314238e-01]\n",
      " [-4.17242418e-02]\n",
      " [-4.31285498e-01]\n",
      " [-6.46651297e-01]\n",
      " [-1.54321959e-01]\n",
      " [-1.42477982e-01]\n",
      " [ 4.96009127e-01]\n",
      " [-7.20255309e-02]\n",
      " [-6.51879918e-02]\n",
      " [ 9.73713335e-01]\n",
      " [ 2.36218522e-01]\n",
      " [-1.06876746e-03]\n",
      " [ 4.34435954e-01]\n",
      " [-1.28076019e-01]\n",
      " [-2.47584073e-01]\n",
      " [-7.10391471e-01]\n",
      " [-5.58836834e-01]\n",
      " [-7.43699081e-01]\n",
      " [-2.58481292e-01]\n",
      " [-1.19242387e-01]\n",
      " [ 5.71157514e-01]\n",
      " [ 4.97483707e-01]\n",
      " [ 9.41952705e-01]\n",
      " [ 6.44331385e-01]\n",
      " [ 1.82692942e-01]\n",
      " [ 3.13123024e-01]\n",
      " [ 2.04403918e-02]\n",
      " [ 1.33781786e+00]\n",
      " [-4.58399199e-02]\n",
      " [-1.02539769e+00]\n",
      " [-3.85549579e-02]]\n"
     ]
    }
   ],
   "source": [
    "# Fit and reduce dimensions of X\n",
    "X_reduced = pca.fit_transform(X)\n",
    "print(X_reduced)"
   ]
  },
  {
   "cell_type": "markdown",
   "metadata": {
    "state": "normal"
   },
   "source": [
    "Scikit-Learn implements a variety of PCA techniques, like Incremental PCA, Randomized PCA, and Kernel PCA. "
   ]
  }
 ],
 "metadata": {
  "kernelspec": {
   "display_name": "Python 3",
   "language": "python",
   "name": "python3"
  },
  "language_info": {
   "codemirror_mode": {
    "name": "ipython",
    "version": 3
   },
   "file_extension": ".py",
   "mimetype": "text/x-python",
   "name": "python",
   "nbconvert_exporter": "python",
   "pygments_lexer": "ipython3",
   "version": "3.8.5"
  },
  "mimir": {
   "data": {},
   "last_submission_id": "",
   "project_id": "bd7dfd20-a303-44c9-af16-a808c8393e58"
  },
  "varInspector": {
   "cols": {
    "lenName": 16,
    "lenType": 16,
    "lenVar": 40
   },
   "kernels_config": {
    "python": {
     "delete_cmd_postfix": "",
     "delete_cmd_prefix": "del ",
     "library": "var_list.py",
     "varRefreshCmd": "print(var_dic_list())"
    },
    "r": {
     "delete_cmd_postfix": ") ",
     "delete_cmd_prefix": "rm(",
     "library": "var_list.r",
     "varRefreshCmd": "cat(var_dic_list()) "
    }
   },
   "types_to_exclude": [
    "module",
    "function",
    "builtin_function_or_method",
    "instance",
    "_Feature"
   ],
   "window_display": false
  }
 },
 "nbformat": 4,
 "nbformat_minor": 2
}
