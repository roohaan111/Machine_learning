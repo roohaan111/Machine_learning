{
 "cells": [
  {
   "cell_type": "markdown",
   "metadata": {
    "state": "normal"
   },
   "source": [
    "# Decision Trees \n",
    "\n",
    "Decision Trees are versatile ML algorithms that can perform both classification (predicting classes) and regression (predicting values) tasks. They are very powerful algorithms, capable of fitting complex datasets. DTs are the building blocks of Random Forests. Scikit-Learn uses the *Classification and Regression Tree (CART)* algorithm to train (grow) trees. "
   ]
  },
  {
   "cell_type": "markdown",
   "metadata": {
    "state": "normal"
   },
   "source": [
    "### Load Libraries"
   ]
  },
  {
   "cell_type": "code",
   "execution_count": 1,
   "metadata": {
    "state": "normal"
   },
   "outputs": [],
   "source": [
    "# To plot pretty figures\n",
    "import matplotlib as mpl\n",
    "import matplotlib.pyplot as plt\n",
    "import numpy as np\n",
    "mpl.rc('axes', labelsize=14)\n",
    "mpl.rc('xtick', labelsize=12)\n",
    "mpl.rc('ytick', labelsize=12)"
   ]
  },
  {
   "cell_type": "markdown",
   "metadata": {
    "state": "normal"
   },
   "source": [
    "## Decision Trees"
   ]
  },
  {
   "cell_type": "code",
   "execution_count": 6,
   "metadata": {
    "state": "normal"
   },
   "outputs": [],
   "source": [
    "# Import DecisionTreeClassifier\n",
    "from sklearn.tree import DecisionTreeClassifier"
   ]
  },
  {
   "cell_type": "markdown",
   "metadata": {
    "state": "normal"
   },
   "source": [
    "#### Load Iris Dataset"
   ]
  },
  {
   "cell_type": "code",
   "execution_count": 7,
   "metadata": {
    "state": "normal"
   },
   "outputs": [],
   "source": [
    "# Import Iris Dataset\n",
    "from sklearn.datasets import load_iris\n",
    "\n",
    "iris = load_iris()\n",
    "X = iris.data[:, 2:] # petal length and width\n",
    "y = iris.target"
   ]
  },
  {
   "cell_type": "code",
   "execution_count": 8,
   "metadata": {
    "deletable": false,
    "id": "apt_sif",
    "starter_code": "## Create a DecisionTreeClassifier with max_depth=2, random_state=42 \ntree_clf = \n\n# Fit the data\ntree_clf.",
    "state": "graded"
   },
   "outputs": [
    {
     "data": {
      "text/plain": [
       "DecisionTreeClassifier(max_depth=2, random_state=42)"
      ]
     },
     "execution_count": 8,
     "metadata": {},
     "output_type": "execute_result"
    }
   ],
   "source": [
    "## Create a DecisionTreeClassifier with max_depth=2, random_state=42 \n",
    "tree_clf = DecisionTreeClassifier(max_depth = 2, random_state = 42)\n",
    "\n",
    "# Fit the data\n",
    "tree_clf.fit(X, y)"
   ]
  },
  {
   "cell_type": "code",
   "execution_count": 9,
   "metadata": {
    "state": "normal"
   },
   "outputs": [],
   "source": [
    "## Generate DT diagram: For your own interest\n",
    "#  (1) Using export_graphviz to output a graph definition file (iris_tree.dot)\n",
    "\n",
    "from sklearn.tree import export_graphviz\n",
    "export_graphviz(\n",
    "       tree_clf,\n",
    "       out_file = \"iris_tree.dot\",\n",
    "       feature_names = iris.feature_names[2:],\n",
    "       class_names = iris.target_names,\n",
    "       rounded = True,\n",
    "       filled = True\n",
    "   )\n",
    "\n",
    "# (2) Convert that .dot file to PDF or PNG using the graphviz package\n",
    "# and this command: $ dot -Tpng iris_tree.dot -o iris_tree.png"
   ]
  },
  {
   "cell_type": "markdown",
   "metadata": {
    "state": "normal"
   },
   "source": [
    "### Model Interpretation\n",
    "**White Box vs. Black Box:** Because DTs are intuitive and their decisions are easy to interpret they are often called *white box models*. Random Forests and Neural Networks are considered *black box models*, because they make great predictions and the calculations used to make those predictions are easy to check, but it's hard to explain *why* the predictions were made. For example, DT's classification rules can be visualized, but we don't know how a NN determined a person was in a picture, i.e., we don't know which features (eyes, nose, mouth?) were used to determine there is a person in the picture. "
   ]
  },
  {
   "cell_type": "code",
   "execution_count": 10,
   "metadata": {
    "state": "normal"
   },
   "outputs": [
    {
     "data": {
      "image/png": "[encoded data removed]",
      "text/plain": [
       "<Figure size 576x288 with 1 Axes>"
      ]
     },
     "metadata": {
      "needs_background": "light"
     },
     "output_type": "display_data"
    }
   ],
   "source": [
    "# Visualize the decision boundaries of tree_clf \n",
    "# How to interpret the figure:\n",
    "# The thick vertical line represents the decision boundary of the root node \n",
    "#     (depth 0): petal length = 2.45 cm. Because the left (light yellow) area \n",
    "#     is 'pure' (only Iris Setosa data is there), we cannot split it any further.\n",
    "# The right area of the figure (green and blue areas) is 'impure', so \n",
    "#     depth-1 right node splits it at petal width = 1.75 cm (dashed line). \n",
    "# Because max_depth = 2, the DT stops there.\n",
    "# If you set max_depth = 3, then the depth-2 nodes would each add another\n",
    "#     decision boundary (dotted lines). \n",
    "\n",
    "\n",
    "from matplotlib.colors import ListedColormap\n",
    "\n",
    "def plot_decision_boundary(clf, X, y, axes=[0, 7.5, 0, 3], iris=True, legend=False, plot_training=True):\n",
    "    x1s = np.linspace(axes[0], axes[1], 100)\n",
    "    x2s = np.linspace(axes[2], axes[3], 100)\n",
    "    x1, x2 = np.meshgrid(x1s, x2s)\n",
    "    X_new = np.c_[x1.ravel(), x2.ravel()]\n",
    "    y_pred = clf.predict(X_new).reshape(x1.shape)\n",
    "    custom_cmap = ListedColormap(['#fafab0','#9898ff','#a0faa0'])\n",
    "    plt.contourf(x1, x2, y_pred, alpha=0.3, cmap=custom_cmap)\n",
    "    if not iris:\n",
    "        custom_cmap2 = ListedColormap(['#7d7d58','#4c4c7f','#507d50'])\n",
    "        plt.contour(x1, x2, y_pred, cmap=custom_cmap2, alpha=0.8)\n",
    "    if plot_training:\n",
    "        plt.plot(X[:, 0][y==0], X[:, 1][y==0], \"yo\", label=\"Iris setosa\")\n",
    "        plt.plot(X[:, 0][y==1], X[:, 1][y==1], \"bs\", label=\"Iris versicolor\")\n",
    "        plt.plot(X[:, 0][y==2], X[:, 1][y==2], \"g^\", label=\"Iris virginica\")\n",
    "        plt.axis(axes)\n",
    "    if iris:\n",
    "        plt.xlabel(\"Petal length\", fontsize=14)\n",
    "        plt.ylabel(\"Petal width\", fontsize=14)\n",
    "    else:\n",
    "        plt.xlabel(r\"$x_1$\", fontsize=18)\n",
    "        plt.ylabel(r\"$x_2$\", fontsize=18, rotation=0)\n",
    "    if legend:\n",
    "        plt.legend(loc=\"lower right\", fontsize=14)\n",
    "\n",
    "plt.figure(figsize=(8, 4))\n",
    "plot_decision_boundary(tree_clf, X, y)\n",
    "plt.plot([2.45, 2.45], [0, 3], \"k-\", linewidth=2)\n",
    "plt.plot([2.45, 7.5], [1.75, 1.75], \"k--\", linewidth=2)\n",
    "plt.plot([4.95, 4.95], [0, 1.75], \"k:\", linewidth=2)\n",
    "plt.plot([4.85, 4.85], [1.75, 3], \"k:\", linewidth=2)\n",
    "plt.text(1.40, 1.0, \"Depth=0\", fontsize=15)\n",
    "plt.text(3.2, 1.80, \"Depth=1\", fontsize=13)\n",
    "plt.text(4.05, 0.5, \"(Depth=2)\", fontsize=11)\n",
    "\n",
    "plt.show()"
   ]
  },
  {
   "cell_type": "markdown",
   "metadata": {
    "state": "normal"
   },
   "source": [
    "### Estimate Class Probabilities\n",
    "DTs can be used to estimate the probability that an instance belongs to a particular class *k*. The algorithm searches the tree to find the leaf node for that instance, and then returns the ratio of training instances of class *k* in the node. \n",
    "\n",
    "Example: Instance is a flower with petals 5 cm long and 1.5 cm wide. The corresponding leaf node is the depth-2 left node, so the DT should output these probabilities: Setosa (0%), Versicolor (49/54 = 90.7%), and Virginica (5/54 = 9.3%). And the class prediction should be Versicolor (because it has the highest probability). "
   ]
  },
  {
   "cell_type": "code",
   "execution_count": 11,
   "metadata": {
    "deletable": false,
    "id": "spicy_saga",
    "starter_code": "# Predict the class probability for the example flower\n# petals are 5 cm long and 1.5 cm wide\ntree_clf.",
    "state": "graded"
   },
   "outputs": [
    {
     "data": {
      "text/plain": [
       "array([[0.        , 0.90740741, 0.09259259]])"
      ]
     },
     "execution_count": 11,
     "metadata": {},
     "output_type": "execute_result"
    }
   ],
   "source": [
    "# Predict the class probability for the example flower\n",
    "# petals are 5 cm long and 1.5 cm wide\n",
    "tree_clf.predict_proba(np.array([[5, 1.5]]))"
   ]
  },
  {
   "cell_type": "code",
   "execution_count": 13,
   "metadata": {
    "deletable": false,
    "id": "sly_mani",
    "starter_code": "# Predict the class for that example flower\ntree_clf.",
    "state": "graded"
   },
   "outputs": [
    {
     "data": {
      "text/plain": [
       "array([1])"
      ]
     },
     "execution_count": 13,
     "metadata": {},
     "output_type": "execute_result"
    }
   ],
   "source": [
    "# Predict the class for that example flower\n",
    "tree_clf.predict(np.array([[5, 1.5]]))"
   ]
  },
  {
   "cell_type": "markdown",
   "metadata": {
    "state": "normal"
   },
   "source": [
    "# Regression Trees"
   ]
  },
  {
   "cell_type": "code",
   "execution_count": 14,
   "metadata": {
    "state": "normal"
   },
   "outputs": [],
   "source": [
    "from sklearn.tree import DecisionTreeRegressor"
   ]
  },
  {
   "cell_type": "markdown",
   "metadata": {
    "state": "normal"
   },
   "source": [
    "### Generate Dataset"
   ]
  },
  {
   "cell_type": "code",
   "execution_count": 15,
   "metadata": {
    "state": "normal"
   },
   "outputs": [],
   "source": [
    "# Create noisy quadratic dataset \n",
    "np.random.seed(42)\n",
    "m = 200\n",
    "X = np.random.rand(m, 1)\n",
    "y = 4 * (X - 0.5) ** 2\n",
    "y = y + np.random.randn(m, 1) / 10"
   ]
  },
  {
   "cell_type": "code",
   "execution_count": 16,
   "metadata": {
    "deletable": false,
    "id": "eager_nott",
    "starter_code": "# Create a DecisionTreeRegressor with max depth of 2 & random state of 42\n# This tree will look similar to the previous tree, but now instead of \n# predicting a class at each node, it will predict a value\ntree_reg = \n\n# Fit the data\ntree_reg.",
    "state": "graded"
   },
   "outputs": [
    {
     "data": {
      "text/plain": [
       "DecisionTreeRegressor(max_depth=2, random_state=42)"
      ]
     },
     "execution_count": 16,
     "metadata": {},
     "output_type": "execute_result"
    }
   ],
   "source": [
    "# Create a DecisionTreeRegressor with max depth of 2 & random state of 42\n",
    "# This tree will look similar to the previous tree, but now instead of \n",
    "# predicting a class at each node, it will predict a value\n",
    "tree_reg = DecisionTreeRegressor(max_depth=2, random_state=42)\n",
    "\n",
    "# Fit the data\n",
    "tree_reg.fit(X, y)"
   ]
  },
  {
   "cell_type": "code",
   "execution_count": 17,
   "metadata": {
    "state": "normal"
   },
   "outputs": [
    {
     "data": {
      "image/png": "[encoded data removed]",
      "text/plain": [
       "<Figure size 720x288 with 2 Axes>"
      ]
     },
     "metadata": {
      "needs_background": "light"
     },
     "output_type": "display_data"
    }
   ],
   "source": [
    "# Visualize the tree_reg predictions\n",
    "\n",
    "from sklearn.tree import DecisionTreeRegressor\n",
    "\n",
    "tree_reg1 = DecisionTreeRegressor(random_state=42, max_depth=2)\n",
    "tree_reg2 = DecisionTreeRegressor(random_state=42, max_depth=3)\n",
    "tree_reg1.fit(X, y)\n",
    "tree_reg2.fit(X, y)\n",
    "\n",
    "def plot_regression_predictions(tree_reg, X, y, axes=[0, 1, -0.2, 1], ylabel=\"$y$\"):\n",
    "    x1 = np.linspace(axes[0], axes[1], 500).reshape(-1, 1)\n",
    "    y_pred = tree_reg.predict(x1)\n",
    "    plt.axis(axes)\n",
    "    plt.xlabel(\"$x_1$\", fontsize=18)\n",
    "    if ylabel:\n",
    "        plt.ylabel(ylabel, fontsize=18, rotation=0)\n",
    "    plt.plot(X, y, \"b.\")\n",
    "    plt.plot(x1, y_pred, \"r.-\", linewidth=2, label=r\"$\\hat{y}$\")\n",
    "\n",
    "fig, axes = plt.subplots(ncols=2, figsize=(10, 4), sharey=True)\n",
    "plt.sca(axes[0])\n",
    "plot_regression_predictions(tree_reg1, X, y)\n",
    "for split, style in ((0.1973, \"k-\"), (0.0917, \"k--\"), (0.7718, \"k--\")):\n",
    "    plt.plot([split, split], [-0.2, 1], style, linewidth=2)\n",
    "plt.text(0.21, 0.65, \"Depth=0\", fontsize=15)\n",
    "plt.text(0.01, 0.2, \"Depth=1\", fontsize=13)\n",
    "plt.text(0.65, 0.8, \"Depth=1\", fontsize=13)\n",
    "plt.legend(loc=\"upper center\", fontsize=18)\n",
    "plt.title(\"max_depth=2\", fontsize=14)\n",
    "\n",
    "plt.sca(axes[1])\n",
    "plot_regression_predictions(tree_reg2, X, y, ylabel=None)\n",
    "for split, style in ((0.1973, \"k-\"), (0.0917, \"k--\"), (0.7718, \"k--\")):\n",
    "    plt.plot([split, split], [-0.2, 1], style, linewidth=2)\n",
    "for split in (0.0458, 0.1298, 0.2873, 0.9040):\n",
    "    plt.plot([split, split], [-0.2, 1], \"k:\", linewidth=1)\n",
    "plt.text(0.3, 0.5, \"Depth=2\", fontsize=13)\n",
    "plt.title(\"max_depth=3\", fontsize=14)\n",
    "\n",
    "plt.show()\n"
   ]
  },
  {
   "cell_type": "markdown",
   "metadata": {
    "state": "normal"
   },
   "source": [
    "The CART algorithm used for classification (previous section) works the same for regression predictions, except instead of trying to split the training set to minimize 'impurity', it now tries to split the training set in a way that will minimize MSE (the CART cost function shown in class). "
   ]
  },
  {
   "cell_type": "code",
   "execution_count": 18,
   "metadata": {
    "deletable": false,
    "id": "apt_boi",
    "starter_code": "# Create a regression tree with random_state = 42 \ntree_reg1 = \n\n# Fit the data\ntree_reg1.",
    "state": "graded"
   },
   "outputs": [
    {
     "data": {
      "text/plain": [
       "DecisionTreeRegressor(random_state=42)"
      ]
     },
     "execution_count": 18,
     "metadata": {},
     "output_type": "execute_result"
    }
   ],
   "source": [
    "# Create a regression tree with random_state = 42 \n",
    "tree_reg1 = DecisionTreeRegressor(random_state=42)\n",
    "\n",
    "# Fit the data\n",
    "tree_reg1.fit(X, y)"
   ]
  },
  {
   "cell_type": "code",
   "execution_count": 19,
   "metadata": {
    "deletable": false,
    "id": "red_oor",
    "starter_code": "# Create a regression tree with random_state = 42 and min_samples_leaf = 10 \ntree_reg2 = \n\n# Fit the data\ntree_reg2.",
    "state": "graded"
   },
   "outputs": [
    {
     "data": {
      "text/plain": [
       "DecisionTreeRegressor(min_samples_leaf=10, random_state=42)"
      ]
     },
     "execution_count": 19,
     "metadata": {},
     "output_type": "execute_result"
    }
   ],
   "source": [
    "# Create a regression tree with random_state = 42 and min_samples_leaf = 10 \n",
    "tree_reg2 = DecisionTreeRegressor(min_samples_leaf=10, random_state=42)\n",
    "\n",
    "# Fit the data\n",
    "tree_reg2.fit(X, y)"
   ]
  },
  {
   "cell_type": "code",
   "execution_count": 20,
   "metadata": {
    "deletable": false,
    "id": "high_oor",
    "starter_code": "x1 = np.linspace(0, 1, 500).reshape(-1, 1)\n\n# Use tree_reg1 to predict x1\ny_pred1 = \n\n# Use tree_reg2 to predict x1\ny_pred2 = ",
    "state": "graded"
   },
   "outputs": [],
   "source": [
    "x1 = np.linspace(0, 1, 500).reshape(-1, 1)\n",
    "\n",
    "# Use tree_reg1 to predict x1\n",
    "y_pred1 = tree_reg1.predict(x1)\n",
    "\n",
    "# Use tree_reg2 to predict x1\n",
    "y_pred2 = tree_reg2.predict(x1)"
   ]
  },
  {
   "cell_type": "code",
   "execution_count": 21,
   "metadata": {
    "state": "normal"
   },
   "outputs": [
    {
     "data": {
      "image/png": "[encoded data removed]",
      "text/plain": [
       "<Figure size 720x288 with 2 Axes>"
      ]
     },
     "metadata": {
      "needs_background": "light"
     },
     "output_type": "display_data"
    }
   ],
   "source": [
    "# Visualize DT overfitting\n",
    "# The left figure has no regularization (uses default hyperparameters)\n",
    "#     and is severly overfitting the training set.\n",
    "# The right figure is a more reasonable model. \n",
    "\n",
    "fig, axes = plt.subplots(ncols=2, figsize=(10, 4), sharey=True)\n",
    "\n",
    "plt.sca(axes[0])\n",
    "plt.plot(X, y, \"b.\")\n",
    "plt.plot(x1, y_pred1, \"r.-\", linewidth=2, label=r\"$\\hat{y}$\")\n",
    "plt.axis([0, 1, -0.2, 1.1])\n",
    "plt.xlabel(\"$x_1$\", fontsize=18)\n",
    "plt.ylabel(\"$y$\", fontsize=18, rotation=0)\n",
    "plt.legend(loc=\"upper center\", fontsize=18)\n",
    "plt.title(\"No restrictions\", fontsize=14)\n",
    "\n",
    "plt.sca(axes[1])\n",
    "plt.plot(X, y, \"b.\")\n",
    "plt.plot(x1, y_pred2, \"r.-\", linewidth=2, label=r\"$\\hat{y}$\")\n",
    "plt.axis([0, 1, -0.2, 1.1])\n",
    "plt.xlabel(\"$x_1$\", fontsize=18)\n",
    "plt.title(\"min_samples_leaf={}\".format(tree_reg2.min_samples_leaf), fontsize=14)\n",
    "\n",
    "plt.show()"
   ]
  },
  {
   "cell_type": "markdown",
   "metadata": {
    "state": "normal"
   },
   "source": [
    "# Random Forests\n",
    "If you aggregate the predictions of a group of predictors (classifiers or regressors), you will usually get better predictions than with the best individual predictor. A group of predictors is called an **ensemble**, so this technique is called Ensemble Learning, and an Ensemble Learning Algorithm is called an Ensemble Method. \n",
    "\n",
    "Random Forest is an ensemble of Decision Trees. Scikit-Learn provides a **RandomForestClassifier** for classification tasks and **RandomForestRegressor** for regression tasks. "
   ]
  },
  {
   "cell_type": "code",
   "execution_count": 22,
   "metadata": {
    "state": "normal"
   },
   "outputs": [],
   "source": [
    "from sklearn.ensemble import RandomForestClassifier\n",
    "from sklearn.model_selection import train_test_split\n",
    "from sklearn.datasets import make_moons\n",
    "\n",
    "X, y = make_moons(n_samples=500, noise=0.30, random_state=42)\n",
    "X_train, X_test, y_train, y_test = train_test_split(X, y, random_state=42)"
   ]
  },
  {
   "cell_type": "code",
   "execution_count": 23,
   "metadata": {
    "deletable": false,
    "id": "blue_odin",
    "starter_code": "# Create a RandomForestClassifier with 500 trees, each limited\n#     to maximum 16 nodes (and use: n_jobs = -1)\nrnd_clf = ( , , n_jobs = -1)\n\n# Fit the training data (previous cell)\nrnd_clf.\n\n# Use rnd_clf to predict for X_test\ny_pred_rf = \n\n",
    "state": "graded"
   },
   "outputs": [],
   "source": [
    "# Create a RandomForestClassifier with 500 trees, each limited\n",
    "#     to maximum 16 nodes (and use: n_jobs = -1)\n",
    "rnd_clf = RandomForestClassifier(n_estimators=500, max_leaf_nodes=16, n_jobs = -1)\n",
    "\n",
    "# Fit the training data (previous cell)\n",
    "rnd_clf.fit(X_train, y_train)\n",
    "\n",
    "# Use rnd_clf to predict for X_test\n",
    "y_pred_rf = rnd_clf.predict_proba(X_test)\n",
    "\n"
   ]
  },
  {
   "cell_type": "markdown",
   "metadata": {
    "state": "normal"
   },
   "source": [
    "## Feature Importance\n",
    "When you visualize the DT, important features are likely to appear closer to the root of the tree, while unimportant features will usually appear closer to the leaves (or not at all). You can use this to estimate the feature's importance by computing the average depth that the feature appears across all trees in the forest. Scikit-Learn computes this automatically for every feature after training and you can access it with the *feature_importances_* variable. "
   ]
  },
  {
   "cell_type": "code",
   "execution_count": 24,
   "metadata": {
    "state": "normal"
   },
   "outputs": [],
   "source": [
    "from sklearn.datasets import load_iris\n",
    "iris = load_iris()\n"
   ]
  },
  {
   "cell_type": "code",
   "execution_count": 25,
   "metadata": {
    "deletable": false,
    "id": "calm_sol",
    "starter_code": "# Create a RandomForestClassifier with 500 trees and n_jobs = -1\nrnd_clf = \n",
    "state": "graded"
   },
   "outputs": [],
   "source": [
    "# Create a RandomForestClassifier with 500 trees and n_jobs = -1\n",
    "rnd_clf = RandomForestClassifier(n_estimators=500, n_jobs = -1)\n"
   ]
  },
  {
   "cell_type": "code",
   "execution_count": 26,
   "metadata": {
    "deletable": false,
    "id": "stoic_boi",
    "starter_code": "# Fit the iris data and iris target\nrnd_clf.",
    "state": "graded"
   },
   "outputs": [
    {
     "data": {
      "text/plain": [
       "RandomForestClassifier(n_estimators=500, n_jobs=-1)"
      ]
     },
     "execution_count": 26,
     "metadata": {},
     "output_type": "execute_result"
    }
   ],
   "source": [
    "# Fit the iris data and iris target\n",
    "rnd_clf.fit(iris.data, iris.target)"
   ]
  },
  {
   "cell_type": "code",
   "execution_count": 27,
   "metadata": {
    "state": "normal"
   },
   "outputs": [
    {
     "name": "stdout",
     "output_type": "stream",
     "text": [
      "sepal length (cm) 0.10309761228768258\n",
      "sepal width (cm) 0.0261007361046454\n",
      "petal length (cm) 0.4336527400683616\n",
      "petal width (cm) 0.4371489115393104\n"
     ]
    }
   ],
   "source": [
    "for name, score in zip(iris[\"feature_names\"], rnd_clf.feature_importances_):\n",
    "    print(name, score)"
   ]
  },
  {
   "cell_type": "code",
   "execution_count": null,
   "metadata": {
    "state": "normal"
   },
   "outputs": [],
   "source": []
  }
 ],
 "metadata": {
  "kernelspec": {
   "display_name": "Python 3",
   "language": "python",
   "name": "python3"
  },
  "language_info": {
   "codemirror_mode": {
    "name": "ipython",
    "version": 3
   },
   "file_extension": ".py",
   "mimetype": "text/x-python",
   "name": "python",
   "nbconvert_exporter": "python",
   "pygments_lexer": "ipython3",
   "version": "3.8.5"
  },
  "mimir": {
   "data": {},
   "last_submission_id": "",
   "project_id": "3a4a2ef8-9b19-41d0-8da9-0f525b5db57d"
  },
  "varInspector": {
   "cols": {
    "lenName": 16,
    "lenType": 16,
    "lenVar": 40
   },
   "kernels_config": {
    "python": {
     "delete_cmd_postfix": "",
     "delete_cmd_prefix": "del ",
     "library": "var_list.py",
     "varRefreshCmd": "print(var_dic_list())"
    },
    "r": {
     "delete_cmd_postfix": ") ",
     "delete_cmd_prefix": "rm(",
     "library": "var_list.r",
     "varRefreshCmd": "cat(var_dic_list()) "
    }
   },
   "types_to_exclude": [
    "module",
    "function",
    "builtin_function_or_method",
    "instance",
    "_Feature"
   ],
   "window_display": false
  }
 },
 "nbformat": 4,
 "nbformat_minor": 2
}
